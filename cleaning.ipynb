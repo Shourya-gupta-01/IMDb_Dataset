{
 "cells": [
  {
   "cell_type": "code",
   "execution_count": 1,
   "metadata": {},
   "outputs": [],
   "source": [
    "import pandas as pd\n",
    "import numpy as np"
   ]
  },
  {
   "cell_type": "code",
   "execution_count": 2,
   "metadata": {},
   "outputs": [],
   "source": [
    "raw_data=pd.read_csv('movies.csv',low_memory=False)"
   ]
  },
  {
   "cell_type": "code",
   "execution_count": 3,
   "metadata": {},
   "outputs": [
    {
     "data": {
      "application/vnd.microsoft.datawrangler.viewer.v0+json": {
       "columns": [
        {
         "name": "index",
         "rawType": "int64",
         "type": "integer"
        },
        {
         "name": "id",
         "rawType": "object",
         "type": "string"
        },
        {
         "name": "name",
         "rawType": "object",
         "type": "string"
        },
        {
         "name": "year",
         "rawType": "object",
         "type": "string"
        },
        {
         "name": "rating",
         "rawType": "float64",
         "type": "float"
        },
        {
         "name": "certificate",
         "rawType": "object",
         "type": "string"
        },
        {
         "name": "duration",
         "rawType": "object",
         "type": "string"
        },
        {
         "name": "genre",
         "rawType": "object",
         "type": "string"
        },
        {
         "name": "votes",
         "rawType": "object",
         "type": "string"
        },
        {
         "name": "gross_income",
         "rawType": "object",
         "type": "string"
        },
        {
         "name": "directors_id",
         "rawType": "object",
         "type": "string"
        },
        {
         "name": "directors_name",
         "rawType": "object",
         "type": "string"
        },
        {
         "name": "stars_id",
         "rawType": "object",
         "type": "string"
        },
        {
         "name": "stars_name",
         "rawType": "object",
         "type": "string"
        },
        {
         "name": "description",
         "rawType": "object",
         "type": "string"
        }
       ],
       "conversionMethod": "pd.DataFrame",
       "ref": "76731a0e-28b4-4b90-8d4e-548b06b4e442",
       "rows": [
        [
         "1759359",
         "tt14023624",
         " ESPN College Basketball",
         "(1987– )",
         "11.0",
         "Not Certified",
         "0 min",
         "Sport",
         "0",
         "0",
         "Anonymous",
         "nm0000000",
         "Anonymous",
         "nm0000000",
         "Add a Plot"
        ],
        [
         "341895",
         "tt20879962",
         " Monsters Madness and Magic",
         "(2020– )",
         "11.0",
         "Not Certified",
         "0 min",
         "Fantasy, Horror, Music",
         "0",
         "0",
         "nm11630288",
         "Justin Young",
         "nm0017450,nm11789539,nm6188655,nm11630288",
         "Charles Bernstein,Angelique Bone,Daniel Edenfield,Justin Young",
         "Join Justin, Daniel, and Angelique as they chat with legendary film composer Charles Bernstein about the Elm Street franchise, the early days of composition, underground Jazz Clubs in France, navigating the industry, and more."
        ],
        [
         "1378560",
         "tt14895118",
         " M jak milosc",
         "(2000– )",
         "11.0",
         "Not Certified",
         "0 min",
         "Drama, Romance, Mystery",
         "0",
         "0",
         "Anonymous",
         "nm0000000",
         "nm7913961,nm1591309,nm10207398,nm10368199",
         "Mariusz Bindula,Marcin Bosak,Aleksander Bozyk,Agnieszka Brzezinska",
         "Add a Plot"
        ],
        [
         "2045417",
         "tt12707854",
         " Home Movie: The Princess Bride",
         "(2020– )",
         "6.9",
         "Not Certified",
         "10 min",
         "Short, Comedy, Fantasy",
         "33",
         "0",
         "nm0718646",
         "Jason Reitman",
         "nm3239803,nm6016511,nm4392718,nm1176985",
         "Kaitlyn Dever,Finn Wolfhard,Andrew Bachelor,Dave Bautista",
         "The Man in Black duels Inigo and Fezzik in search of Buttercup."
        ],
        [
         "832036",
         "tt9486206",
         " I Can See Your Voice: Philippines",
         "(2017– )",
         "11.0",
         "Not Certified",
         "0 min",
         "Comedy, Game-Show, Musical",
         "0",
         "0",
         "Anonymous",
         "nm0000000",
         "Anonymous",
         "nm0000000",
         "Add a Plot"
        ],
        [
         "2179302",
         "tt4472044",
         "Down in the Third",
         "(2012)",
         "11.0",
         "Not Certified",
         "14 min",
         "Short, Thriller",
         "0",
         "0",
         "nm5292841",
         "Michael Brooks",
         "nm7144446,nm7144794,nm7144795,nm2275953",
         "David Clark,Gary Hobson,Richard Hobson,Paul Hughes",
         "Add a Plot"
        ],
        [
         "2154580",
         "tt13323456",
         "Noah",
         "(I) (2020)",
         "11.0",
         "Not Certified",
         "15 min",
         "Short, Thriller",
         "0",
         "0",
         "nm9759892",
         "Enzo Croisier",
         "nm12002563,nm4396757,nm10042382,nm3805390",
         "Alex Andréa,Marie-Claire Arènes,Kelyan Kezbari,Olivier Mathé",
         "When a father and son come face to face with two old sectarian psychopaths, running for their lives will be their only option where survival instinct and filial love will be pushed to the limit."
        ],
        [
         "1934472",
         "tt14706352",
         "One Piece Theory/Discussion: Souls Part 1 (BlackBeard)",
         "(2015)",
         "11.0",
         "Not Certified",
         "0 min",
         "Short, Sci-Fi",
         "0",
         "0",
         "/name/nm9768990/,/name/nm9768990/",
         "John Princeton,John Princeton",
         "nm9768990",
         "John Princeton",
         "Ahoyprinceton shares a theory on BlackBeard from one piece"
        ],
        [
         "1392957",
         "tt18569698",
         " Lookism",
         "(2019– )",
         "11.0",
         "Not Certified",
         "0 min",
         "Mystery, Romance, Thriller",
         "0",
         "0",
         "Anonymous",
         "nm0000000",
         "Anonymous",
         "nm0000000",
         "Add a Plot"
        ],
        [
         "2475525",
         "tt2019510",
         " Pasapalabra",
         "(2000– )",
         "11.0",
         "Not Certified",
         "0 min",
         "Game-Show",
         "0",
         "0",
         "Anonymous",
         "nm0000000",
         "Anonymous",
         "nm0000000",
         "Add a Plot"
        ]
       ],
       "shape": {
        "columns": 14,
        "rows": 10
       }
      },
      "text/html": [
       "<div>\n",
       "<style scoped>\n",
       "    .dataframe tbody tr th:only-of-type {\n",
       "        vertical-align: middle;\n",
       "    }\n",
       "\n",
       "    .dataframe tbody tr th {\n",
       "        vertical-align: top;\n",
       "    }\n",
       "\n",
       "    .dataframe thead th {\n",
       "        text-align: right;\n",
       "    }\n",
       "</style>\n",
       "<table border=\"1\" class=\"dataframe\">\n",
       "  <thead>\n",
       "    <tr style=\"text-align: right;\">\n",
       "      <th></th>\n",
       "      <th>id</th>\n",
       "      <th>name</th>\n",
       "      <th>year</th>\n",
       "      <th>rating</th>\n",
       "      <th>certificate</th>\n",
       "      <th>duration</th>\n",
       "      <th>genre</th>\n",
       "      <th>votes</th>\n",
       "      <th>gross_income</th>\n",
       "      <th>directors_id</th>\n",
       "      <th>directors_name</th>\n",
       "      <th>stars_id</th>\n",
       "      <th>stars_name</th>\n",
       "      <th>description</th>\n",
       "    </tr>\n",
       "  </thead>\n",
       "  <tbody>\n",
       "    <tr>\n",
       "      <th>1759359</th>\n",
       "      <td>tt14023624</td>\n",
       "      <td>ESPN College Basketball</td>\n",
       "      <td>(1987– )</td>\n",
       "      <td>11.0</td>\n",
       "      <td>Not Certified</td>\n",
       "      <td>0 min</td>\n",
       "      <td>Sport</td>\n",
       "      <td>0</td>\n",
       "      <td>0</td>\n",
       "      <td>Anonymous</td>\n",
       "      <td>nm0000000</td>\n",
       "      <td>Anonymous</td>\n",
       "      <td>nm0000000</td>\n",
       "      <td>Add a Plot</td>\n",
       "    </tr>\n",
       "    <tr>\n",
       "      <th>341895</th>\n",
       "      <td>tt20879962</td>\n",
       "      <td>Monsters Madness and Magic</td>\n",
       "      <td>(2020– )</td>\n",
       "      <td>11.0</td>\n",
       "      <td>Not Certified</td>\n",
       "      <td>0 min</td>\n",
       "      <td>Fantasy, Horror, Music</td>\n",
       "      <td>0</td>\n",
       "      <td>0</td>\n",
       "      <td>nm11630288</td>\n",
       "      <td>Justin Young</td>\n",
       "      <td>nm0017450,nm11789539,nm6188655,nm11630288</td>\n",
       "      <td>Charles Bernstein,Angelique Bone,Daniel Edenfi...</td>\n",
       "      <td>Join Justin, Daniel, and Angelique as they cha...</td>\n",
       "    </tr>\n",
       "    <tr>\n",
       "      <th>1378560</th>\n",
       "      <td>tt14895118</td>\n",
       "      <td>M jak milosc</td>\n",
       "      <td>(2000– )</td>\n",
       "      <td>11.0</td>\n",
       "      <td>Not Certified</td>\n",
       "      <td>0 min</td>\n",
       "      <td>Drama, Romance, Mystery</td>\n",
       "      <td>0</td>\n",
       "      <td>0</td>\n",
       "      <td>Anonymous</td>\n",
       "      <td>nm0000000</td>\n",
       "      <td>nm7913961,nm1591309,nm10207398,nm10368199</td>\n",
       "      <td>Mariusz Bindula,Marcin Bosak,Aleksander Bozyk,...</td>\n",
       "      <td>Add a Plot</td>\n",
       "    </tr>\n",
       "    <tr>\n",
       "      <th>2045417</th>\n",
       "      <td>tt12707854</td>\n",
       "      <td>Home Movie: The Princess Bride</td>\n",
       "      <td>(2020– )</td>\n",
       "      <td>6.9</td>\n",
       "      <td>Not Certified</td>\n",
       "      <td>10 min</td>\n",
       "      <td>Short, Comedy, Fantasy</td>\n",
       "      <td>33</td>\n",
       "      <td>0</td>\n",
       "      <td>nm0718646</td>\n",
       "      <td>Jason Reitman</td>\n",
       "      <td>nm3239803,nm6016511,nm4392718,nm1176985</td>\n",
       "      <td>Kaitlyn Dever,Finn Wolfhard,Andrew Bachelor,Da...</td>\n",
       "      <td>The Man in Black duels Inigo and Fezzik in sea...</td>\n",
       "    </tr>\n",
       "    <tr>\n",
       "      <th>832036</th>\n",
       "      <td>tt9486206</td>\n",
       "      <td>I Can See Your Voice: Philippines</td>\n",
       "      <td>(2017– )</td>\n",
       "      <td>11.0</td>\n",
       "      <td>Not Certified</td>\n",
       "      <td>0 min</td>\n",
       "      <td>Comedy, Game-Show, Musical</td>\n",
       "      <td>0</td>\n",
       "      <td>0</td>\n",
       "      <td>Anonymous</td>\n",
       "      <td>nm0000000</td>\n",
       "      <td>Anonymous</td>\n",
       "      <td>nm0000000</td>\n",
       "      <td>Add a Plot</td>\n",
       "    </tr>\n",
       "    <tr>\n",
       "      <th>2179302</th>\n",
       "      <td>tt4472044</td>\n",
       "      <td>Down in the Third</td>\n",
       "      <td>(2012)</td>\n",
       "      <td>11.0</td>\n",
       "      <td>Not Certified</td>\n",
       "      <td>14 min</td>\n",
       "      <td>Short, Thriller</td>\n",
       "      <td>0</td>\n",
       "      <td>0</td>\n",
       "      <td>nm5292841</td>\n",
       "      <td>Michael Brooks</td>\n",
       "      <td>nm7144446,nm7144794,nm7144795,nm2275953</td>\n",
       "      <td>David Clark,Gary Hobson,Richard Hobson,Paul Hu...</td>\n",
       "      <td>Add a Plot</td>\n",
       "    </tr>\n",
       "    <tr>\n",
       "      <th>2154580</th>\n",
       "      <td>tt13323456</td>\n",
       "      <td>Noah</td>\n",
       "      <td>(I) (2020)</td>\n",
       "      <td>11.0</td>\n",
       "      <td>Not Certified</td>\n",
       "      <td>15 min</td>\n",
       "      <td>Short, Thriller</td>\n",
       "      <td>0</td>\n",
       "      <td>0</td>\n",
       "      <td>nm9759892</td>\n",
       "      <td>Enzo Croisier</td>\n",
       "      <td>nm12002563,nm4396757,nm10042382,nm3805390</td>\n",
       "      <td>Alex Andréa,Marie-Claire Arènes,Kelyan Kezbari...</td>\n",
       "      <td>When a father and son come face to face with t...</td>\n",
       "    </tr>\n",
       "    <tr>\n",
       "      <th>1934472</th>\n",
       "      <td>tt14706352</td>\n",
       "      <td>One Piece Theory/Discussion: Souls Part 1 (Bla...</td>\n",
       "      <td>(2015)</td>\n",
       "      <td>11.0</td>\n",
       "      <td>Not Certified</td>\n",
       "      <td>0 min</td>\n",
       "      <td>Short, Sci-Fi</td>\n",
       "      <td>0</td>\n",
       "      <td>0</td>\n",
       "      <td>/name/nm9768990/,/name/nm9768990/</td>\n",
       "      <td>John Princeton,John Princeton</td>\n",
       "      <td>nm9768990</td>\n",
       "      <td>John Princeton</td>\n",
       "      <td>Ahoyprinceton shares a theory on BlackBeard fr...</td>\n",
       "    </tr>\n",
       "    <tr>\n",
       "      <th>1392957</th>\n",
       "      <td>tt18569698</td>\n",
       "      <td>Lookism</td>\n",
       "      <td>(2019– )</td>\n",
       "      <td>11.0</td>\n",
       "      <td>Not Certified</td>\n",
       "      <td>0 min</td>\n",
       "      <td>Mystery, Romance, Thriller</td>\n",
       "      <td>0</td>\n",
       "      <td>0</td>\n",
       "      <td>Anonymous</td>\n",
       "      <td>nm0000000</td>\n",
       "      <td>Anonymous</td>\n",
       "      <td>nm0000000</td>\n",
       "      <td>Add a Plot</td>\n",
       "    </tr>\n",
       "    <tr>\n",
       "      <th>2475525</th>\n",
       "      <td>tt2019510</td>\n",
       "      <td>Pasapalabra</td>\n",
       "      <td>(2000– )</td>\n",
       "      <td>11.0</td>\n",
       "      <td>Not Certified</td>\n",
       "      <td>0 min</td>\n",
       "      <td>Game-Show</td>\n",
       "      <td>0</td>\n",
       "      <td>0</td>\n",
       "      <td>Anonymous</td>\n",
       "      <td>nm0000000</td>\n",
       "      <td>Anonymous</td>\n",
       "      <td>nm0000000</td>\n",
       "      <td>Add a Plot</td>\n",
       "    </tr>\n",
       "  </tbody>\n",
       "</table>\n",
       "</div>"
      ],
      "text/plain": [
       "                 id                                               name  \\\n",
       "1759359  tt14023624                            ESPN College Basketball   \n",
       "341895   tt20879962                         Monsters Madness and Magic   \n",
       "1378560  tt14895118                                       M jak milosc   \n",
       "2045417  tt12707854                     Home Movie: The Princess Bride   \n",
       "832036    tt9486206                  I Can See Your Voice: Philippines   \n",
       "2179302   tt4472044                                  Down in the Third   \n",
       "2154580  tt13323456                                               Noah   \n",
       "1934472  tt14706352  One Piece Theory/Discussion: Souls Part 1 (Bla...   \n",
       "1392957  tt18569698                                            Lookism   \n",
       "2475525   tt2019510                                        Pasapalabra   \n",
       "\n",
       "               year  rating    certificate duration  \\\n",
       "1759359    (1987– )    11.0  Not Certified    0 min   \n",
       "341895     (2020– )    11.0  Not Certified    0 min   \n",
       "1378560    (2000– )    11.0  Not Certified    0 min   \n",
       "2045417    (2020– )     6.9  Not Certified   10 min   \n",
       "832036     (2017– )    11.0  Not Certified    0 min   \n",
       "2179302      (2012)    11.0  Not Certified   14 min   \n",
       "2154580  (I) (2020)    11.0  Not Certified   15 min   \n",
       "1934472      (2015)    11.0  Not Certified    0 min   \n",
       "1392957    (2019– )    11.0  Not Certified    0 min   \n",
       "2475525    (2000– )    11.0  Not Certified    0 min   \n",
       "\n",
       "                              genre votes gross_income  \\\n",
       "1759359                       Sport     0            0   \n",
       "341895       Fantasy, Horror, Music     0            0   \n",
       "1378560     Drama, Romance, Mystery     0            0   \n",
       "2045417      Short, Comedy, Fantasy    33            0   \n",
       "832036   Comedy, Game-Show, Musical     0            0   \n",
       "2179302             Short, Thriller     0            0   \n",
       "2154580             Short, Thriller     0            0   \n",
       "1934472               Short, Sci-Fi     0            0   \n",
       "1392957  Mystery, Romance, Thriller     0            0   \n",
       "2475525                   Game-Show     0            0   \n",
       "\n",
       "                              directors_id                 directors_name  \\\n",
       "1759359                          Anonymous                      nm0000000   \n",
       "341895                          nm11630288                   Justin Young   \n",
       "1378560                          Anonymous                      nm0000000   \n",
       "2045417                          nm0718646                  Jason Reitman   \n",
       "832036                           Anonymous                      nm0000000   \n",
       "2179302                          nm5292841                 Michael Brooks   \n",
       "2154580                          nm9759892                  Enzo Croisier   \n",
       "1934472  /name/nm9768990/,/name/nm9768990/  John Princeton,John Princeton   \n",
       "1392957                          Anonymous                      nm0000000   \n",
       "2475525                          Anonymous                      nm0000000   \n",
       "\n",
       "                                          stars_id  \\\n",
       "1759359                                  Anonymous   \n",
       "341895   nm0017450,nm11789539,nm6188655,nm11630288   \n",
       "1378560  nm7913961,nm1591309,nm10207398,nm10368199   \n",
       "2045417    nm3239803,nm6016511,nm4392718,nm1176985   \n",
       "832036                                   Anonymous   \n",
       "2179302    nm7144446,nm7144794,nm7144795,nm2275953   \n",
       "2154580  nm12002563,nm4396757,nm10042382,nm3805390   \n",
       "1934472                                  nm9768990   \n",
       "1392957                                  Anonymous   \n",
       "2475525                                  Anonymous   \n",
       "\n",
       "                                                stars_name  \\\n",
       "1759359                                          nm0000000   \n",
       "341895   Charles Bernstein,Angelique Bone,Daniel Edenfi...   \n",
       "1378560  Mariusz Bindula,Marcin Bosak,Aleksander Bozyk,...   \n",
       "2045417  Kaitlyn Dever,Finn Wolfhard,Andrew Bachelor,Da...   \n",
       "832036                                           nm0000000   \n",
       "2179302  David Clark,Gary Hobson,Richard Hobson,Paul Hu...   \n",
       "2154580  Alex Andréa,Marie-Claire Arènes,Kelyan Kezbari...   \n",
       "1934472                                     John Princeton   \n",
       "1392957                                          nm0000000   \n",
       "2475525                                          nm0000000   \n",
       "\n",
       "                                               description  \n",
       "1759359                                         Add a Plot  \n",
       "341895   Join Justin, Daniel, and Angelique as they cha...  \n",
       "1378560                                         Add a Plot  \n",
       "2045417  The Man in Black duels Inigo and Fezzik in sea...  \n",
       "832036                                          Add a Plot  \n",
       "2179302                                         Add a Plot  \n",
       "2154580  When a father and son come face to face with t...  \n",
       "1934472  Ahoyprinceton shares a theory on BlackBeard fr...  \n",
       "1392957                                         Add a Plot  \n",
       "2475525                                         Add a Plot  "
      ]
     },
     "execution_count": 3,
     "metadata": {},
     "output_type": "execute_result"
    }
   ],
   "source": [
    "raw_data.sample(10)"
   ]
  },
  {
   "cell_type": "code",
   "execution_count": 4,
   "metadata": {},
   "outputs": [],
   "source": [
    "df=raw_data.copy()"
   ]
  },
  {
   "cell_type": "markdown",
   "metadata": {},
   "source": [
    "### Removing unwanted columns."
   ]
  },
  {
   "cell_type": "code",
   "execution_count": 5,
   "metadata": {},
   "outputs": [],
   "source": [
    "df.drop(columns=['votes','directors_id','stars_id','description','gross_income'],inplace=True)"
   ]
  },
  {
   "cell_type": "code",
   "execution_count": 6,
   "metadata": {},
   "outputs": [
    {
     "data": {
      "application/vnd.microsoft.datawrangler.viewer.v0+json": {
       "columns": [
        {
         "name": "index",
         "rawType": "int64",
         "type": "integer"
        },
        {
         "name": "id",
         "rawType": "object",
         "type": "string"
        },
        {
         "name": "name",
         "rawType": "object",
         "type": "string"
        },
        {
         "name": "year",
         "rawType": "object",
         "type": "string"
        },
        {
         "name": "rating",
         "rawType": "float64",
         "type": "float"
        },
        {
         "name": "certificate",
         "rawType": "object",
         "type": "string"
        },
        {
         "name": "duration",
         "rawType": "object",
         "type": "string"
        },
        {
         "name": "genre",
         "rawType": "object",
         "type": "string"
        },
        {
         "name": "directors_name",
         "rawType": "object",
         "type": "string"
        },
        {
         "name": "stars_name",
         "rawType": "object",
         "type": "string"
        }
       ],
       "conversionMethod": "pd.DataFrame",
       "ref": "88fe86a4-0427-4b5d-943b-0b0a2457c67d",
       "rows": [
        [
         "2503869",
         "tt3142332",
         " The Profit",
         "(2013– )",
         "7.6",
         "TV-PG",
         "43 min",
         "Game-Show, Reality-TV",
         "nm0000000",
         "nm0000000"
        ],
        [
         "303135",
         "tt10928288",
         " Within",
         "(2019– )",
         "11.0",
         "Not Certified",
         "0 min",
         "Horror, Thriller",
         "Josh Hole,Sammy Simmans",
         "Livio Mendes,Zoie Paget,Sammy Simmans"
        ],
        [
         "1580220",
         "tt21102486",
         " The Legend of Sword Domain",
         "(2021– )",
         "11.0",
         "Not Certified",
         "0 min",
         "Animation, Action, Adventure",
         "nm0000000",
         "nm0000000"
        ],
        [
         "2396503",
         "tt15123552",
         " Strassen Stars",
         "(2004– )",
         "11.0",
         "Not Certified",
         "0 min",
         "Game-Show",
         "nm0000000",
         "Bodo Bach,Roberto Cappelluti,Jörg Thadeusz,Bettina Tietjen"
        ],
        [
         "1345601",
         "tt7106204",
         "Enfim Sos",
         "(2017)",
         "11.0",
         "Not Certified",
         "8 min",
         "Short, Mystery, Thriller",
         "Helvecio Parente",
         "Luis Claudio Anisio,Mario Braga,Roberta Brisson,Mariana Cabral"
        ]
       ],
       "shape": {
        "columns": 9,
        "rows": 5
       }
      },
      "text/html": [
       "<div>\n",
       "<style scoped>\n",
       "    .dataframe tbody tr th:only-of-type {\n",
       "        vertical-align: middle;\n",
       "    }\n",
       "\n",
       "    .dataframe tbody tr th {\n",
       "        vertical-align: top;\n",
       "    }\n",
       "\n",
       "    .dataframe thead th {\n",
       "        text-align: right;\n",
       "    }\n",
       "</style>\n",
       "<table border=\"1\" class=\"dataframe\">\n",
       "  <thead>\n",
       "    <tr style=\"text-align: right;\">\n",
       "      <th></th>\n",
       "      <th>id</th>\n",
       "      <th>name</th>\n",
       "      <th>year</th>\n",
       "      <th>rating</th>\n",
       "      <th>certificate</th>\n",
       "      <th>duration</th>\n",
       "      <th>genre</th>\n",
       "      <th>directors_name</th>\n",
       "      <th>stars_name</th>\n",
       "    </tr>\n",
       "  </thead>\n",
       "  <tbody>\n",
       "    <tr>\n",
       "      <th>2503869</th>\n",
       "      <td>tt3142332</td>\n",
       "      <td>The Profit</td>\n",
       "      <td>(2013– )</td>\n",
       "      <td>7.6</td>\n",
       "      <td>TV-PG</td>\n",
       "      <td>43 min</td>\n",
       "      <td>Game-Show, Reality-TV</td>\n",
       "      <td>nm0000000</td>\n",
       "      <td>nm0000000</td>\n",
       "    </tr>\n",
       "    <tr>\n",
       "      <th>303135</th>\n",
       "      <td>tt10928288</td>\n",
       "      <td>Within</td>\n",
       "      <td>(2019– )</td>\n",
       "      <td>11.0</td>\n",
       "      <td>Not Certified</td>\n",
       "      <td>0 min</td>\n",
       "      <td>Horror, Thriller</td>\n",
       "      <td>Josh Hole,Sammy Simmans</td>\n",
       "      <td>Livio Mendes,Zoie Paget,Sammy Simmans</td>\n",
       "    </tr>\n",
       "    <tr>\n",
       "      <th>1580220</th>\n",
       "      <td>tt21102486</td>\n",
       "      <td>The Legend of Sword Domain</td>\n",
       "      <td>(2021– )</td>\n",
       "      <td>11.0</td>\n",
       "      <td>Not Certified</td>\n",
       "      <td>0 min</td>\n",
       "      <td>Animation, Action, Adventure</td>\n",
       "      <td>nm0000000</td>\n",
       "      <td>nm0000000</td>\n",
       "    </tr>\n",
       "    <tr>\n",
       "      <th>2396503</th>\n",
       "      <td>tt15123552</td>\n",
       "      <td>Strassen Stars</td>\n",
       "      <td>(2004– )</td>\n",
       "      <td>11.0</td>\n",
       "      <td>Not Certified</td>\n",
       "      <td>0 min</td>\n",
       "      <td>Game-Show</td>\n",
       "      <td>nm0000000</td>\n",
       "      <td>Bodo Bach,Roberto Cappelluti,Jörg Thadeusz,Bet...</td>\n",
       "    </tr>\n",
       "    <tr>\n",
       "      <th>1345601</th>\n",
       "      <td>tt7106204</td>\n",
       "      <td>Enfim Sos</td>\n",
       "      <td>(2017)</td>\n",
       "      <td>11.0</td>\n",
       "      <td>Not Certified</td>\n",
       "      <td>8 min</td>\n",
       "      <td>Short, Mystery, Thriller</td>\n",
       "      <td>Helvecio Parente</td>\n",
       "      <td>Luis Claudio Anisio,Mario Braga,Roberta Brisso...</td>\n",
       "    </tr>\n",
       "  </tbody>\n",
       "</table>\n",
       "</div>"
      ],
      "text/plain": [
       "                 id                         name      year  rating  \\\n",
       "2503869   tt3142332                   The Profit  (2013– )     7.6   \n",
       "303135   tt10928288                       Within  (2019– )    11.0   \n",
       "1580220  tt21102486   The Legend of Sword Domain  (2021– )    11.0   \n",
       "2396503  tt15123552               Strassen Stars  (2004– )    11.0   \n",
       "1345601   tt7106204                    Enfim Sos    (2017)    11.0   \n",
       "\n",
       "           certificate duration                         genre  \\\n",
       "2503869          TV-PG   43 min         Game-Show, Reality-TV   \n",
       "303135   Not Certified    0 min              Horror, Thriller   \n",
       "1580220  Not Certified    0 min  Animation, Action, Adventure   \n",
       "2396503  Not Certified    0 min                     Game-Show   \n",
       "1345601  Not Certified    8 min      Short, Mystery, Thriller   \n",
       "\n",
       "                  directors_name  \\\n",
       "2503869                nm0000000   \n",
       "303135   Josh Hole,Sammy Simmans   \n",
       "1580220                nm0000000   \n",
       "2396503                nm0000000   \n",
       "1345601         Helvecio Parente   \n",
       "\n",
       "                                                stars_name  \n",
       "2503869                                          nm0000000  \n",
       "303135               Livio Mendes,Zoie Paget,Sammy Simmans  \n",
       "1580220                                          nm0000000  \n",
       "2396503  Bodo Bach,Roberto Cappelluti,Jörg Thadeusz,Bet...  \n",
       "1345601  Luis Claudio Anisio,Mario Braga,Roberta Brisso...  "
      ]
     },
     "execution_count": 6,
     "metadata": {},
     "output_type": "execute_result"
    }
   ],
   "source": [
    "df.sample(5)"
   ]
  },
  {
   "cell_type": "markdown",
   "metadata": {},
   "source": [
    "### Cleaning name column."
   ]
  },
  {
   "cell_type": "code",
   "execution_count": 7,
   "metadata": {},
   "outputs": [],
   "source": [
    "df.dropna(subset=['name'],inplace=True)"
   ]
  },
  {
   "cell_type": "code",
   "execution_count": 8,
   "metadata": {},
   "outputs": [],
   "source": [
    "df.drop_duplicates(subset=['name','year'],inplace=True)"
   ]
  },
  {
   "cell_type": "code",
   "execution_count": 9,
   "metadata": {},
   "outputs": [
    {
     "data": {
      "application/vnd.microsoft.datawrangler.viewer.v0+json": {
       "columns": [
        {
         "name": "index",
         "rawType": "int64",
         "type": "integer"
        },
        {
         "name": "id",
         "rawType": "object",
         "type": "string"
        },
        {
         "name": "name",
         "rawType": "object",
         "type": "string"
        },
        {
         "name": "year",
         "rawType": "object",
         "type": "string"
        },
        {
         "name": "rating",
         "rawType": "float64",
         "type": "float"
        },
        {
         "name": "certificate",
         "rawType": "object",
         "type": "string"
        },
        {
         "name": "duration",
         "rawType": "object",
         "type": "string"
        },
        {
         "name": "genre",
         "rawType": "object",
         "type": "string"
        },
        {
         "name": "directors_name",
         "rawType": "object",
         "type": "string"
        },
        {
         "name": "stars_name",
         "rawType": "object",
         "type": "string"
        }
       ],
       "conversionMethod": "pd.DataFrame",
       "ref": "a1bf01c6-60b3-4201-a298-9334e0b6f3e2",
       "rows": [
        [
         "2102405",
         "tt4695138",
         "Dragon Laws I: The Undercover",
         "(2003 TV Movie)",
         "11.0",
         "Not Certified",
         "92 min",
         "Action",
         "Lee King",
         "Sammo Kam-Bo Hung,Tin-Chiu Hung,Bao Li"
        ],
        [
         "211377",
         "tt0954323",
         "By Appointment Only",
         "(2007)",
         "7.2",
         "Not Certified",
         "20 min",
         "Short, Horror",
         "John Faust",
         "Matthew Barry Ryan,Belen Greene,Nancy Sinclair,Annya Broderick"
        ],
        [
         "1918941",
         "tt0841185",
         "Whatever Happened to Pete Blaggit?",
         "(2012)",
         "6.9",
         "Not Certified",
         "94 min",
         "Comedy, Sci-Fi",
         "Mark Jeavons",
         "Rob Leetham,Gabrielle Amies,Adam Rickitt,Andy Pandini"
        ],
        [
         "381132",
         "tt5040624",
         "Ignacio de Loyola",
         "(2016)",
         "5.7",
         "Not Certified",
         "118 min",
         "Action, Biography, Drama",
         "Paolo Dy,Cathy Azanza",
         "Andreas Muñoz,Javier Godino,Julio Perillán,Pepe Ocio"
        ],
        [
         "34562",
         "tt0422155",
         "Earl's Your Uncle",
         "(2004)",
         "7.8",
         "Not Certified",
         "19 min",
         "Short, Comedy, Crime",
         "Thomas L. Phillips",
         "Andy S. Allen,Larrs Jackson,Howard Krupnick,David Reynolds"
        ]
       ],
       "shape": {
        "columns": 9,
        "rows": 5
       }
      },
      "text/html": [
       "<div>\n",
       "<style scoped>\n",
       "    .dataframe tbody tr th:only-of-type {\n",
       "        vertical-align: middle;\n",
       "    }\n",
       "\n",
       "    .dataframe tbody tr th {\n",
       "        vertical-align: top;\n",
       "    }\n",
       "\n",
       "    .dataframe thead th {\n",
       "        text-align: right;\n",
       "    }\n",
       "</style>\n",
       "<table border=\"1\" class=\"dataframe\">\n",
       "  <thead>\n",
       "    <tr style=\"text-align: right;\">\n",
       "      <th></th>\n",
       "      <th>id</th>\n",
       "      <th>name</th>\n",
       "      <th>year</th>\n",
       "      <th>rating</th>\n",
       "      <th>certificate</th>\n",
       "      <th>duration</th>\n",
       "      <th>genre</th>\n",
       "      <th>directors_name</th>\n",
       "      <th>stars_name</th>\n",
       "    </tr>\n",
       "  </thead>\n",
       "  <tbody>\n",
       "    <tr>\n",
       "      <th>2102405</th>\n",
       "      <td>tt4695138</td>\n",
       "      <td>Dragon Laws I: The Undercover</td>\n",
       "      <td>(2003 TV Movie)</td>\n",
       "      <td>11.0</td>\n",
       "      <td>Not Certified</td>\n",
       "      <td>92 min</td>\n",
       "      <td>Action</td>\n",
       "      <td>Lee King</td>\n",
       "      <td>Sammo Kam-Bo Hung,Tin-Chiu Hung,Bao Li</td>\n",
       "    </tr>\n",
       "    <tr>\n",
       "      <th>211377</th>\n",
       "      <td>tt0954323</td>\n",
       "      <td>By Appointment Only</td>\n",
       "      <td>(2007)</td>\n",
       "      <td>7.2</td>\n",
       "      <td>Not Certified</td>\n",
       "      <td>20 min</td>\n",
       "      <td>Short, Horror</td>\n",
       "      <td>John Faust</td>\n",
       "      <td>Matthew Barry Ryan,Belen Greene,Nancy Sinclair...</td>\n",
       "    </tr>\n",
       "    <tr>\n",
       "      <th>1918941</th>\n",
       "      <td>tt0841185</td>\n",
       "      <td>Whatever Happened to Pete Blaggit?</td>\n",
       "      <td>(2012)</td>\n",
       "      <td>6.9</td>\n",
       "      <td>Not Certified</td>\n",
       "      <td>94 min</td>\n",
       "      <td>Comedy, Sci-Fi</td>\n",
       "      <td>Mark Jeavons</td>\n",
       "      <td>Rob Leetham,Gabrielle Amies,Adam Rickitt,Andy ...</td>\n",
       "    </tr>\n",
       "    <tr>\n",
       "      <th>381132</th>\n",
       "      <td>tt5040624</td>\n",
       "      <td>Ignacio de Loyola</td>\n",
       "      <td>(2016)</td>\n",
       "      <td>5.7</td>\n",
       "      <td>Not Certified</td>\n",
       "      <td>118 min</td>\n",
       "      <td>Action, Biography, Drama</td>\n",
       "      <td>Paolo Dy,Cathy Azanza</td>\n",
       "      <td>Andreas Muñoz,Javier Godino,Julio Perillán,Pep...</td>\n",
       "    </tr>\n",
       "    <tr>\n",
       "      <th>34562</th>\n",
       "      <td>tt0422155</td>\n",
       "      <td>Earl's Your Uncle</td>\n",
       "      <td>(2004)</td>\n",
       "      <td>7.8</td>\n",
       "      <td>Not Certified</td>\n",
       "      <td>19 min</td>\n",
       "      <td>Short, Comedy, Crime</td>\n",
       "      <td>Thomas L. Phillips</td>\n",
       "      <td>Andy S. Allen,Larrs Jackson,Howard Krupnick,Da...</td>\n",
       "    </tr>\n",
       "  </tbody>\n",
       "</table>\n",
       "</div>"
      ],
      "text/plain": [
       "                id                                name             year  \\\n",
       "2102405  tt4695138       Dragon Laws I: The Undercover  (2003 TV Movie)   \n",
       "211377   tt0954323                 By Appointment Only           (2007)   \n",
       "1918941  tt0841185  Whatever Happened to Pete Blaggit?           (2012)   \n",
       "381132   tt5040624                   Ignacio de Loyola           (2016)   \n",
       "34562    tt0422155                   Earl's Your Uncle           (2004)   \n",
       "\n",
       "         rating    certificate duration                     genre  \\\n",
       "2102405    11.0  Not Certified   92 min                    Action   \n",
       "211377      7.2  Not Certified   20 min             Short, Horror   \n",
       "1918941     6.9  Not Certified   94 min            Comedy, Sci-Fi   \n",
       "381132      5.7  Not Certified  118 min  Action, Biography, Drama   \n",
       "34562       7.8  Not Certified   19 min      Short, Comedy, Crime   \n",
       "\n",
       "                directors_name  \\\n",
       "2102405               Lee King   \n",
       "211377              John Faust   \n",
       "1918941           Mark Jeavons   \n",
       "381132   Paolo Dy,Cathy Azanza   \n",
       "34562       Thomas L. Phillips   \n",
       "\n",
       "                                                stars_name  \n",
       "2102405             Sammo Kam-Bo Hung,Tin-Chiu Hung,Bao Li  \n",
       "211377   Matthew Barry Ryan,Belen Greene,Nancy Sinclair...  \n",
       "1918941  Rob Leetham,Gabrielle Amies,Adam Rickitt,Andy ...  \n",
       "381132   Andreas Muñoz,Javier Godino,Julio Perillán,Pep...  \n",
       "34562    Andy S. Allen,Larrs Jackson,Howard Krupnick,Da...  "
      ]
     },
     "execution_count": 9,
     "metadata": {},
     "output_type": "execute_result"
    }
   ],
   "source": [
    "df.sample(5)"
   ]
  },
  {
   "cell_type": "markdown",
   "metadata": {},
   "source": [
    "### Cleaning Year column."
   ]
  },
  {
   "cell_type": "code",
   "execution_count": 10,
   "metadata": {},
   "outputs": [],
   "source": [
    "import re\n",
    "\n",
    "pattern = r\"\\((\\d{4})\"\n",
    "df['Year_of_Release'] = df['year'].apply(lambda x: re.search(pattern, x).group(1) if re.search(pattern, x) else None)"
   ]
  },
  {
   "cell_type": "code",
   "execution_count": 11,
   "metadata": {},
   "outputs": [],
   "source": [
    "df.dropna(subset=['Year_of_Release'], inplace=True)"
   ]
  },
  {
   "cell_type": "code",
   "execution_count": 12,
   "metadata": {},
   "outputs": [],
   "source": [
    "df['Year_of_Release']=df['Year_of_Release'].astype(int)"
   ]
  },
  {
   "cell_type": "code",
   "execution_count": 13,
   "metadata": {},
   "outputs": [
    {
     "data": {
      "application/vnd.microsoft.datawrangler.viewer.v0+json": {
       "columns": [
        {
         "name": "index",
         "rawType": "int64",
         "type": "integer"
        },
        {
         "name": "id",
         "rawType": "object",
         "type": "string"
        },
        {
         "name": "name",
         "rawType": "object",
         "type": "string"
        },
        {
         "name": "year",
         "rawType": "object",
         "type": "string"
        },
        {
         "name": "rating",
         "rawType": "float64",
         "type": "float"
        },
        {
         "name": "certificate",
         "rawType": "object",
         "type": "string"
        },
        {
         "name": "duration",
         "rawType": "object",
         "type": "string"
        },
        {
         "name": "genre",
         "rawType": "object",
         "type": "string"
        },
        {
         "name": "directors_name",
         "rawType": "object",
         "type": "string"
        },
        {
         "name": "stars_name",
         "rawType": "object",
         "type": "string"
        },
        {
         "name": "Year_of_Release",
         "rawType": "int32",
         "type": "integer"
        }
       ],
       "conversionMethod": "pd.DataFrame",
       "ref": "b27ffc13-284d-42c1-b769-6da3059dfdb0",
       "rows": [
        [
         "394648",
         "tt4837500",
         "China's 3Dreams",
         "(2014)",
         "7.1",
         "Not Certified",
         "85 min",
         "Documentary, History",
         "Nick Torrens",
         "nm0000000",
         "2014"
        ],
        [
         "1296349",
         "tt2190194",
         "The Coming of Akbar Khan",
         "(2012)",
         "11.0",
         "Not Certified",
         "9 min",
         "Short, Action, Adventure",
         "Philip Kreyche",
         "Philip Kreyche,Vikram Doddi",
         "2012"
        ],
        [
         "2065731",
         "tt0440936",
         "Mujeres en armas",
         "(1981)",
         "11.0",
         "Unrated",
         "59 min",
         "Documentary, War",
         "Victoria Schultz,Celeste Wesson",
         "Celeste Wesson",
         "1981"
        ],
        [
         "380395",
         "tt1148181",
         "Bonekickers",
         "(2008)",
         "4.8",
         "Not Certified",
         "60 min",
         "Adventure, Drama, History",
         "nm0000000",
         "Hugh Bonneville,Julie Graham,Adrian Lester,Michael Maloney",
         "2008"
        ],
        [
         "1680745",
         "tt0159298",
         "Bowling Tricks",
         "(1948)",
         "8.0",
         "Not Certified",
         "9 min",
         "Short, Comedy, Sport",
         "Dave O'Brien",
         "Pete Smith,Andy Varipapa,John Y. McKinney",
         "1948"
        ]
       ],
       "shape": {
        "columns": 10,
        "rows": 5
       }
      },
      "text/html": [
       "<div>\n",
       "<style scoped>\n",
       "    .dataframe tbody tr th:only-of-type {\n",
       "        vertical-align: middle;\n",
       "    }\n",
       "\n",
       "    .dataframe tbody tr th {\n",
       "        vertical-align: top;\n",
       "    }\n",
       "\n",
       "    .dataframe thead th {\n",
       "        text-align: right;\n",
       "    }\n",
       "</style>\n",
       "<table border=\"1\" class=\"dataframe\">\n",
       "  <thead>\n",
       "    <tr style=\"text-align: right;\">\n",
       "      <th></th>\n",
       "      <th>id</th>\n",
       "      <th>name</th>\n",
       "      <th>year</th>\n",
       "      <th>rating</th>\n",
       "      <th>certificate</th>\n",
       "      <th>duration</th>\n",
       "      <th>genre</th>\n",
       "      <th>directors_name</th>\n",
       "      <th>stars_name</th>\n",
       "      <th>Year_of_Release</th>\n",
       "    </tr>\n",
       "  </thead>\n",
       "  <tbody>\n",
       "    <tr>\n",
       "      <th>394648</th>\n",
       "      <td>tt4837500</td>\n",
       "      <td>China's 3Dreams</td>\n",
       "      <td>(2014)</td>\n",
       "      <td>7.1</td>\n",
       "      <td>Not Certified</td>\n",
       "      <td>85 min</td>\n",
       "      <td>Documentary, History</td>\n",
       "      <td>Nick Torrens</td>\n",
       "      <td>nm0000000</td>\n",
       "      <td>2014</td>\n",
       "    </tr>\n",
       "    <tr>\n",
       "      <th>1296349</th>\n",
       "      <td>tt2190194</td>\n",
       "      <td>The Coming of Akbar Khan</td>\n",
       "      <td>(2012)</td>\n",
       "      <td>11.0</td>\n",
       "      <td>Not Certified</td>\n",
       "      <td>9 min</td>\n",
       "      <td>Short, Action, Adventure</td>\n",
       "      <td>Philip Kreyche</td>\n",
       "      <td>Philip Kreyche,Vikram Doddi</td>\n",
       "      <td>2012</td>\n",
       "    </tr>\n",
       "    <tr>\n",
       "      <th>2065731</th>\n",
       "      <td>tt0440936</td>\n",
       "      <td>Mujeres en armas</td>\n",
       "      <td>(1981)</td>\n",
       "      <td>11.0</td>\n",
       "      <td>Unrated</td>\n",
       "      <td>59 min</td>\n",
       "      <td>Documentary, War</td>\n",
       "      <td>Victoria Schultz,Celeste Wesson</td>\n",
       "      <td>Celeste Wesson</td>\n",
       "      <td>1981</td>\n",
       "    </tr>\n",
       "    <tr>\n",
       "      <th>380395</th>\n",
       "      <td>tt1148181</td>\n",
       "      <td>Bonekickers</td>\n",
       "      <td>(2008)</td>\n",
       "      <td>4.8</td>\n",
       "      <td>Not Certified</td>\n",
       "      <td>60 min</td>\n",
       "      <td>Adventure, Drama, History</td>\n",
       "      <td>nm0000000</td>\n",
       "      <td>Hugh Bonneville,Julie Graham,Adrian Lester,Mic...</td>\n",
       "      <td>2008</td>\n",
       "    </tr>\n",
       "    <tr>\n",
       "      <th>1680745</th>\n",
       "      <td>tt0159298</td>\n",
       "      <td>Bowling Tricks</td>\n",
       "      <td>(1948)</td>\n",
       "      <td>8.0</td>\n",
       "      <td>Not Certified</td>\n",
       "      <td>9 min</td>\n",
       "      <td>Short, Comedy, Sport</td>\n",
       "      <td>Dave O'Brien</td>\n",
       "      <td>Pete Smith,Andy Varipapa,John Y. McKinney</td>\n",
       "      <td>1948</td>\n",
       "    </tr>\n",
       "  </tbody>\n",
       "</table>\n",
       "</div>"
      ],
      "text/plain": [
       "                id                      name    year  rating    certificate  \\\n",
       "394648   tt4837500           China's 3Dreams  (2014)     7.1  Not Certified   \n",
       "1296349  tt2190194  The Coming of Akbar Khan  (2012)    11.0  Not Certified   \n",
       "2065731  tt0440936          Mujeres en armas  (1981)    11.0        Unrated   \n",
       "380395   tt1148181               Bonekickers  (2008)     4.8  Not Certified   \n",
       "1680745  tt0159298            Bowling Tricks  (1948)     8.0  Not Certified   \n",
       "\n",
       "        duration                      genre                   directors_name  \\\n",
       "394648    85 min       Documentary, History                     Nick Torrens   \n",
       "1296349    9 min   Short, Action, Adventure                   Philip Kreyche   \n",
       "2065731   59 min           Documentary, War  Victoria Schultz,Celeste Wesson   \n",
       "380395    60 min  Adventure, Drama, History                        nm0000000   \n",
       "1680745    9 min       Short, Comedy, Sport                     Dave O'Brien   \n",
       "\n",
       "                                                stars_name  Year_of_Release  \n",
       "394648                                           nm0000000             2014  \n",
       "1296349                        Philip Kreyche,Vikram Doddi             2012  \n",
       "2065731                                     Celeste Wesson             1981  \n",
       "380395   Hugh Bonneville,Julie Graham,Adrian Lester,Mic...             2008  \n",
       "1680745          Pete Smith,Andy Varipapa,John Y. McKinney             1948  "
      ]
     },
     "execution_count": 13,
     "metadata": {},
     "output_type": "execute_result"
    }
   ],
   "source": [
    "df.sample(5)"
   ]
  },
  {
   "cell_type": "markdown",
   "metadata": {},
   "source": [
    "### Cleaning star_name Column."
   ]
  },
  {
   "cell_type": "code",
   "execution_count": 14,
   "metadata": {},
   "outputs": [],
   "source": [
    "df['Actor_list'] = df['stars_name'].str.split(',')"
   ]
  },
  {
   "cell_type": "markdown",
   "metadata": {},
   "source": [
    "### Cleaning Genre column."
   ]
  },
  {
   "cell_type": "code",
   "execution_count": 15,
   "metadata": {},
   "outputs": [],
   "source": [
    "df['Genre'] = df['genre'].str.split(', ')"
   ]
  },
  {
   "cell_type": "code",
   "execution_count": 16,
   "metadata": {},
   "outputs": [
    {
     "data": {
      "application/vnd.microsoft.datawrangler.viewer.v0+json": {
       "columns": [
        {
         "name": "index",
         "rawType": "int64",
         "type": "integer"
        },
        {
         "name": "id",
         "rawType": "object",
         "type": "string"
        },
        {
         "name": "name",
         "rawType": "object",
         "type": "string"
        },
        {
         "name": "year",
         "rawType": "object",
         "type": "string"
        },
        {
         "name": "rating",
         "rawType": "float64",
         "type": "float"
        },
        {
         "name": "certificate",
         "rawType": "object",
         "type": "string"
        },
        {
         "name": "duration",
         "rawType": "object",
         "type": "string"
        },
        {
         "name": "genre",
         "rawType": "object",
         "type": "string"
        },
        {
         "name": "directors_name",
         "rawType": "object",
         "type": "string"
        },
        {
         "name": "stars_name",
         "rawType": "object",
         "type": "string"
        },
        {
         "name": "Year_of_Release",
         "rawType": "int32",
         "type": "integer"
        },
        {
         "name": "Actor_list",
         "rawType": "object",
         "type": "unknown"
        },
        {
         "name": "Genre",
         "rawType": "object",
         "type": "unknown"
        }
       ],
       "conversionMethod": "pd.DataFrame",
       "ref": "61d2fc3a-cea6-4ab4-832d-bef5f8725c94",
       "rows": [
        [
         "1031415",
         "tt13292924",
         "Roadblock and Play",
         "(2020)",
         "11.0",
         "Not Certified",
         "14 min",
         "Animation, Short, Sci-Fi",
         "Cetester Ransom,Cetester Ransom",
         "Cetester Ransom",
         "2020",
         "['Cetester Ransom']",
         "['Animation', 'Short', 'Sci-Fi']"
        ],
        [
         "2064242",
         "tt14852934",
         "Cudak",
         "(2021 TV Movie)",
         "6.4",
         "Not Certified",
         "82 min",
         "Biography, Drama, War",
         "Anna Kazejak",
         "Kazimierz Mazur,Andrzej Klak,Diana Zamojska,Natalia Skrzypek",
         "2021",
         "['Kazimierz Mazur', 'Andrzej Klak', 'Diana Zamojska', 'Natalia Skrzypek']",
         "['Biography', 'Drama', 'War']"
        ],
        [
         "1026257",
         "tt10365008",
         "Nature Cat: Ocean Commotion",
         "(2017)",
         "11.0",
         "G",
         "45 min",
         "Animation",
         "Bob Doucette,Unkown",
         "Taran Killam,Bobby Moynihan",
         "2017",
         "['Taran Killam', 'Bobby Moynihan']",
         "['Animation']"
        ],
        [
         "1339709",
         "tt2770970",
         "Deja-Vous",
         "(2013)",
         "11.0",
         "Not Certified",
         "7 min",
         "Short, Drama, Mystery",
         "Christabel Savalas",
         "Marisa Barley,Nina Martina,Cornell Militaru",
         "2013",
         "['Marisa Barley', 'Nina Martina', 'Cornell Militaru']",
         "['Short', 'Drama', 'Mystery']"
        ],
        [
         "275150",
         "tt19366092",
         "Not Found: Staff's Best Selection Part 4",
         "(2018 Video)",
         "11.0",
         "Not Certified",
         "92 min",
         "Horror",
         "Soichiro Koga,Hisatake Yoshikawa",
         "nm0000000",
         "2018",
         "['nm0000000']",
         "['Horror']"
        ]
       ],
       "shape": {
        "columns": 12,
        "rows": 5
       }
      },
      "text/html": [
       "<div>\n",
       "<style scoped>\n",
       "    .dataframe tbody tr th:only-of-type {\n",
       "        vertical-align: middle;\n",
       "    }\n",
       "\n",
       "    .dataframe tbody tr th {\n",
       "        vertical-align: top;\n",
       "    }\n",
       "\n",
       "    .dataframe thead th {\n",
       "        text-align: right;\n",
       "    }\n",
       "</style>\n",
       "<table border=\"1\" class=\"dataframe\">\n",
       "  <thead>\n",
       "    <tr style=\"text-align: right;\">\n",
       "      <th></th>\n",
       "      <th>id</th>\n",
       "      <th>name</th>\n",
       "      <th>year</th>\n",
       "      <th>rating</th>\n",
       "      <th>certificate</th>\n",
       "      <th>duration</th>\n",
       "      <th>genre</th>\n",
       "      <th>directors_name</th>\n",
       "      <th>stars_name</th>\n",
       "      <th>Year_of_Release</th>\n",
       "      <th>Actor_list</th>\n",
       "      <th>Genre</th>\n",
       "    </tr>\n",
       "  </thead>\n",
       "  <tbody>\n",
       "    <tr>\n",
       "      <th>1031415</th>\n",
       "      <td>tt13292924</td>\n",
       "      <td>Roadblock and Play</td>\n",
       "      <td>(2020)</td>\n",
       "      <td>11.0</td>\n",
       "      <td>Not Certified</td>\n",
       "      <td>14 min</td>\n",
       "      <td>Animation, Short, Sci-Fi</td>\n",
       "      <td>Cetester Ransom,Cetester Ransom</td>\n",
       "      <td>Cetester Ransom</td>\n",
       "      <td>2020</td>\n",
       "      <td>[Cetester Ransom]</td>\n",
       "      <td>[Animation, Short, Sci-Fi]</td>\n",
       "    </tr>\n",
       "    <tr>\n",
       "      <th>2064242</th>\n",
       "      <td>tt14852934</td>\n",
       "      <td>Cudak</td>\n",
       "      <td>(2021 TV Movie)</td>\n",
       "      <td>6.4</td>\n",
       "      <td>Not Certified</td>\n",
       "      <td>82 min</td>\n",
       "      <td>Biography, Drama, War</td>\n",
       "      <td>Anna Kazejak</td>\n",
       "      <td>Kazimierz Mazur,Andrzej Klak,Diana Zamojska,Na...</td>\n",
       "      <td>2021</td>\n",
       "      <td>[Kazimierz Mazur, Andrzej Klak, Diana Zamojska...</td>\n",
       "      <td>[Biography, Drama, War]</td>\n",
       "    </tr>\n",
       "    <tr>\n",
       "      <th>1026257</th>\n",
       "      <td>tt10365008</td>\n",
       "      <td>Nature Cat: Ocean Commotion</td>\n",
       "      <td>(2017)</td>\n",
       "      <td>11.0</td>\n",
       "      <td>G</td>\n",
       "      <td>45 min</td>\n",
       "      <td>Animation</td>\n",
       "      <td>Bob Doucette,Unkown</td>\n",
       "      <td>Taran Killam,Bobby Moynihan</td>\n",
       "      <td>2017</td>\n",
       "      <td>[Taran Killam, Bobby Moynihan]</td>\n",
       "      <td>[Animation]</td>\n",
       "    </tr>\n",
       "    <tr>\n",
       "      <th>1339709</th>\n",
       "      <td>tt2770970</td>\n",
       "      <td>Deja-Vous</td>\n",
       "      <td>(2013)</td>\n",
       "      <td>11.0</td>\n",
       "      <td>Not Certified</td>\n",
       "      <td>7 min</td>\n",
       "      <td>Short, Drama, Mystery</td>\n",
       "      <td>Christabel Savalas</td>\n",
       "      <td>Marisa Barley,Nina Martina,Cornell Militaru</td>\n",
       "      <td>2013</td>\n",
       "      <td>[Marisa Barley, Nina Martina, Cornell Militaru]</td>\n",
       "      <td>[Short, Drama, Mystery]</td>\n",
       "    </tr>\n",
       "    <tr>\n",
       "      <th>275150</th>\n",
       "      <td>tt19366092</td>\n",
       "      <td>Not Found: Staff's Best Selection Part 4</td>\n",
       "      <td>(2018 Video)</td>\n",
       "      <td>11.0</td>\n",
       "      <td>Not Certified</td>\n",
       "      <td>92 min</td>\n",
       "      <td>Horror</td>\n",
       "      <td>Soichiro Koga,Hisatake Yoshikawa</td>\n",
       "      <td>nm0000000</td>\n",
       "      <td>2018</td>\n",
       "      <td>[nm0000000]</td>\n",
       "      <td>[Horror]</td>\n",
       "    </tr>\n",
       "  </tbody>\n",
       "</table>\n",
       "</div>"
      ],
      "text/plain": [
       "                 id                                      name  \\\n",
       "1031415  tt13292924                        Roadblock and Play   \n",
       "2064242  tt14852934                                     Cudak   \n",
       "1026257  tt10365008               Nature Cat: Ocean Commotion   \n",
       "1339709   tt2770970                                 Deja-Vous   \n",
       "275150   tt19366092  Not Found: Staff's Best Selection Part 4   \n",
       "\n",
       "                    year  rating    certificate duration  \\\n",
       "1031415           (2020)    11.0  Not Certified   14 min   \n",
       "2064242  (2021 TV Movie)     6.4  Not Certified   82 min   \n",
       "1026257           (2017)    11.0              G   45 min   \n",
       "1339709           (2013)    11.0  Not Certified    7 min   \n",
       "275150      (2018 Video)    11.0  Not Certified   92 min   \n",
       "\n",
       "                            genre                    directors_name  \\\n",
       "1031415  Animation, Short, Sci-Fi   Cetester Ransom,Cetester Ransom   \n",
       "2064242     Biography, Drama, War                      Anna Kazejak   \n",
       "1026257                 Animation               Bob Doucette,Unkown   \n",
       "1339709     Short, Drama, Mystery                Christabel Savalas   \n",
       "275150                     Horror  Soichiro Koga,Hisatake Yoshikawa   \n",
       "\n",
       "                                                stars_name  Year_of_Release  \\\n",
       "1031415                                    Cetester Ransom             2020   \n",
       "2064242  Kazimierz Mazur,Andrzej Klak,Diana Zamojska,Na...             2021   \n",
       "1026257                        Taran Killam,Bobby Moynihan             2017   \n",
       "1339709        Marisa Barley,Nina Martina,Cornell Militaru             2013   \n",
       "275150                                           nm0000000             2018   \n",
       "\n",
       "                                                Actor_list  \\\n",
       "1031415                                  [Cetester Ransom]   \n",
       "2064242  [Kazimierz Mazur, Andrzej Klak, Diana Zamojska...   \n",
       "1026257                     [Taran Killam, Bobby Moynihan]   \n",
       "1339709    [Marisa Barley, Nina Martina, Cornell Militaru]   \n",
       "275150                                         [nm0000000]   \n",
       "\n",
       "                              Genre  \n",
       "1031415  [Animation, Short, Sci-Fi]  \n",
       "2064242     [Biography, Drama, War]  \n",
       "1026257                 [Animation]  \n",
       "1339709     [Short, Drama, Mystery]  \n",
       "275150                     [Horror]  "
      ]
     },
     "execution_count": 16,
     "metadata": {},
     "output_type": "execute_result"
    }
   ],
   "source": [
    "df.sample(5)"
   ]
  },
  {
   "cell_type": "markdown",
   "metadata": {},
   "source": [
    "### Fill missing values of duration column."
   ]
  },
  {
   "cell_type": "code",
   "execution_count": 17,
   "metadata": {},
   "outputs": [],
   "source": [
    "df['duration']=df['duration'].str.replace(' min','')\n",
    "df['duration']=df['duration'].str.replace(',','').astype(int)"
   ]
  },
  {
   "cell_type": "code",
   "execution_count": 18,
   "metadata": {},
   "outputs": [],
   "source": [
    "df['main_genre'] = df['Genre'].apply(lambda x: x[0] if isinstance(x, list) and len(x) > 0 else None)\n",
    "\n",
    "genre_median_duration = df.groupby('main_genre')['duration'].median()\n",
    "\n",
    "df['duration'] = df.apply(\n",
    "    lambda row: genre_median_duration[row['main_genre']] if row['duration'] == 0 else row['duration'], \n",
    "    axis=1\n",
    ")"
   ]
  },
  {
   "cell_type": "code",
   "execution_count": 19,
   "metadata": {},
   "outputs": [
    {
     "data": {
      "application/vnd.microsoft.datawrangler.viewer.v0+json": {
       "columns": [
        {
         "name": "index",
         "rawType": "int64",
         "type": "integer"
        },
        {
         "name": "id",
         "rawType": "object",
         "type": "string"
        },
        {
         "name": "name",
         "rawType": "object",
         "type": "string"
        },
        {
         "name": "year",
         "rawType": "object",
         "type": "string"
        },
        {
         "name": "rating",
         "rawType": "float64",
         "type": "float"
        },
        {
         "name": "certificate",
         "rawType": "object",
         "type": "string"
        },
        {
         "name": "duration",
         "rawType": "float64",
         "type": "float"
        },
        {
         "name": "genre",
         "rawType": "object",
         "type": "string"
        },
        {
         "name": "directors_name",
         "rawType": "object",
         "type": "string"
        },
        {
         "name": "stars_name",
         "rawType": "object",
         "type": "string"
        },
        {
         "name": "Year_of_Release",
         "rawType": "int32",
         "type": "integer"
        },
        {
         "name": "Actor_list",
         "rawType": "object",
         "type": "unknown"
        },
        {
         "name": "Genre",
         "rawType": "object",
         "type": "unknown"
        },
        {
         "name": "main_genre",
         "rawType": "object",
         "type": "string"
        }
       ],
       "conversionMethod": "pd.DataFrame",
       "ref": "0333ac3b-b0f0-4c5f-b33d-0f3f091c2606",
       "rows": [
        [
         "388954",
         "tt2102330",
         "Harlem Street Singer",
         "(2013)",
         "8.4",
         "Not Certified",
         "76.0",
         "Documentary, Biography, History",
         "Simeon Hutner,Trevor Laurence",
         "nm0000000",
         "2013",
         "['nm0000000']",
         "['Documentary', 'Biography', 'History']",
         "Documentary"
        ],
        [
         "933310",
         "tt15869898",
         "Hillsong College - the project",
         "(2011)",
         "11.0",
         "Not Certified",
         "29.0",
         "Documentary, Short, Music",
         "nm0000000",
         "nm0000000",
         "2011",
         "['nm0000000']",
         "['Documentary', 'Short', 'Music']",
         "Documentary"
        ],
        [
         "1999551",
         "tt3380892",
         "Uzayli Zekiye",
         "(1987)",
         "5.9",
         "Not Certified",
         "67.0",
         "Comedy, Fantasy",
         "nm0000000",
         "Seden Kiziltunç,Münir Özkul,Dogu Erkan,Üstün Asutay",
         "1987",
         "['Seden Kiziltunç', 'Münir Özkul', 'Dogu Erkan', 'Üstün Asutay']",
         "['Comedy', 'Fantasy']",
         "Comedy"
        ],
        [
         "958299",
         "tt7286056",
         "Marteria Feat. Teutilla: Aliens",
         "(2017 Music Video)",
         "11.0",
         "Not Certified",
         "4.0",
         "Music",
         "Specter Berlin",
         "Marteria,Arnim Teutoburg-Weiß",
         "2017",
         "['Marteria', 'Arnim Teutoburg-Weiß']",
         "['Music']",
         "Music"
        ],
        [
         "225183",
         "tt11095648",
         "Burn, Witch, Burn!",
         "(2019)",
         "11.0",
         "Not Certified",
         "5.0",
         "Short, Horror",
         "Tyler Messervey",
         "Matt Brown,Matt Gunn,Emily Hardy,Warren Reid",
         "2019",
         "['Matt Brown', 'Matt Gunn', 'Emily Hardy', 'Warren Reid']",
         "['Short', 'Horror']",
         "Short"
        ]
       ],
       "shape": {
        "columns": 13,
        "rows": 5
       }
      },
      "text/html": [
       "<div>\n",
       "<style scoped>\n",
       "    .dataframe tbody tr th:only-of-type {\n",
       "        vertical-align: middle;\n",
       "    }\n",
       "\n",
       "    .dataframe tbody tr th {\n",
       "        vertical-align: top;\n",
       "    }\n",
       "\n",
       "    .dataframe thead th {\n",
       "        text-align: right;\n",
       "    }\n",
       "</style>\n",
       "<table border=\"1\" class=\"dataframe\">\n",
       "  <thead>\n",
       "    <tr style=\"text-align: right;\">\n",
       "      <th></th>\n",
       "      <th>id</th>\n",
       "      <th>name</th>\n",
       "      <th>year</th>\n",
       "      <th>rating</th>\n",
       "      <th>certificate</th>\n",
       "      <th>duration</th>\n",
       "      <th>genre</th>\n",
       "      <th>directors_name</th>\n",
       "      <th>stars_name</th>\n",
       "      <th>Year_of_Release</th>\n",
       "      <th>Actor_list</th>\n",
       "      <th>Genre</th>\n",
       "      <th>main_genre</th>\n",
       "    </tr>\n",
       "  </thead>\n",
       "  <tbody>\n",
       "    <tr>\n",
       "      <th>388954</th>\n",
       "      <td>tt2102330</td>\n",
       "      <td>Harlem Street Singer</td>\n",
       "      <td>(2013)</td>\n",
       "      <td>8.4</td>\n",
       "      <td>Not Certified</td>\n",
       "      <td>76.0</td>\n",
       "      <td>Documentary, Biography, History</td>\n",
       "      <td>Simeon Hutner,Trevor Laurence</td>\n",
       "      <td>nm0000000</td>\n",
       "      <td>2013</td>\n",
       "      <td>[nm0000000]</td>\n",
       "      <td>[Documentary, Biography, History]</td>\n",
       "      <td>Documentary</td>\n",
       "    </tr>\n",
       "    <tr>\n",
       "      <th>933310</th>\n",
       "      <td>tt15869898</td>\n",
       "      <td>Hillsong College - the project</td>\n",
       "      <td>(2011)</td>\n",
       "      <td>11.0</td>\n",
       "      <td>Not Certified</td>\n",
       "      <td>29.0</td>\n",
       "      <td>Documentary, Short, Music</td>\n",
       "      <td>nm0000000</td>\n",
       "      <td>nm0000000</td>\n",
       "      <td>2011</td>\n",
       "      <td>[nm0000000]</td>\n",
       "      <td>[Documentary, Short, Music]</td>\n",
       "      <td>Documentary</td>\n",
       "    </tr>\n",
       "    <tr>\n",
       "      <th>1999551</th>\n",
       "      <td>tt3380892</td>\n",
       "      <td>Uzayli Zekiye</td>\n",
       "      <td>(1987)</td>\n",
       "      <td>5.9</td>\n",
       "      <td>Not Certified</td>\n",
       "      <td>67.0</td>\n",
       "      <td>Comedy, Fantasy</td>\n",
       "      <td>nm0000000</td>\n",
       "      <td>Seden Kiziltunç,Münir Özkul,Dogu Erkan,Üstün A...</td>\n",
       "      <td>1987</td>\n",
       "      <td>[Seden Kiziltunç, Münir Özkul, Dogu Erkan, Üst...</td>\n",
       "      <td>[Comedy, Fantasy]</td>\n",
       "      <td>Comedy</td>\n",
       "    </tr>\n",
       "    <tr>\n",
       "      <th>958299</th>\n",
       "      <td>tt7286056</td>\n",
       "      <td>Marteria Feat. Teutilla: Aliens</td>\n",
       "      <td>(2017 Music Video)</td>\n",
       "      <td>11.0</td>\n",
       "      <td>Not Certified</td>\n",
       "      <td>4.0</td>\n",
       "      <td>Music</td>\n",
       "      <td>Specter Berlin</td>\n",
       "      <td>Marteria,Arnim Teutoburg-Weiß</td>\n",
       "      <td>2017</td>\n",
       "      <td>[Marteria, Arnim Teutoburg-Weiß]</td>\n",
       "      <td>[Music]</td>\n",
       "      <td>Music</td>\n",
       "    </tr>\n",
       "    <tr>\n",
       "      <th>225183</th>\n",
       "      <td>tt11095648</td>\n",
       "      <td>Burn, Witch, Burn!</td>\n",
       "      <td>(2019)</td>\n",
       "      <td>11.0</td>\n",
       "      <td>Not Certified</td>\n",
       "      <td>5.0</td>\n",
       "      <td>Short, Horror</td>\n",
       "      <td>Tyler Messervey</td>\n",
       "      <td>Matt Brown,Matt Gunn,Emily Hardy,Warren Reid</td>\n",
       "      <td>2019</td>\n",
       "      <td>[Matt Brown, Matt Gunn, Emily Hardy, Warren Reid]</td>\n",
       "      <td>[Short, Horror]</td>\n",
       "      <td>Short</td>\n",
       "    </tr>\n",
       "  </tbody>\n",
       "</table>\n",
       "</div>"
      ],
      "text/plain": [
       "                 id                             name                year  \\\n",
       "388954    tt2102330             Harlem Street Singer              (2013)   \n",
       "933310   tt15869898   Hillsong College - the project              (2011)   \n",
       "1999551   tt3380892                    Uzayli Zekiye              (1987)   \n",
       "958299    tt7286056  Marteria Feat. Teutilla: Aliens  (2017 Music Video)   \n",
       "225183   tt11095648               Burn, Witch, Burn!              (2019)   \n",
       "\n",
       "         rating    certificate  duration                            genre  \\\n",
       "388954      8.4  Not Certified      76.0  Documentary, Biography, History   \n",
       "933310     11.0  Not Certified      29.0        Documentary, Short, Music   \n",
       "1999551     5.9  Not Certified      67.0                  Comedy, Fantasy   \n",
       "958299     11.0  Not Certified       4.0                            Music   \n",
       "225183     11.0  Not Certified       5.0                    Short, Horror   \n",
       "\n",
       "                        directors_name  \\\n",
       "388954   Simeon Hutner,Trevor Laurence   \n",
       "933310                       nm0000000   \n",
       "1999551                      nm0000000   \n",
       "958299                  Specter Berlin   \n",
       "225183                 Tyler Messervey   \n",
       "\n",
       "                                                stars_name  Year_of_Release  \\\n",
       "388954                                           nm0000000             2013   \n",
       "933310                                           nm0000000             2011   \n",
       "1999551  Seden Kiziltunç,Münir Özkul,Dogu Erkan,Üstün A...             1987   \n",
       "958299                       Marteria,Arnim Teutoburg-Weiß             2017   \n",
       "225183        Matt Brown,Matt Gunn,Emily Hardy,Warren Reid             2019   \n",
       "\n",
       "                                                Actor_list  \\\n",
       "388954                                         [nm0000000]   \n",
       "933310                                         [nm0000000]   \n",
       "1999551  [Seden Kiziltunç, Münir Özkul, Dogu Erkan, Üst...   \n",
       "958299                    [Marteria, Arnim Teutoburg-Weiß]   \n",
       "225183   [Matt Brown, Matt Gunn, Emily Hardy, Warren Reid]   \n",
       "\n",
       "                                     Genre   main_genre  \n",
       "388954   [Documentary, Biography, History]  Documentary  \n",
       "933310         [Documentary, Short, Music]  Documentary  \n",
       "1999551                  [Comedy, Fantasy]       Comedy  \n",
       "958299                             [Music]        Music  \n",
       "225183                     [Short, Horror]        Short  "
      ]
     },
     "execution_count": 19,
     "metadata": {},
     "output_type": "execute_result"
    }
   ],
   "source": [
    "df.sample(5)"
   ]
  },
  {
   "cell_type": "markdown",
   "metadata": {},
   "source": [
    "### Rearrangement and final touch."
   ]
  },
  {
   "cell_type": "code",
   "execution_count": 20,
   "metadata": {},
   "outputs": [],
   "source": [
    "df.drop(columns=['year','id','genre','stars_name','main_genre','certificate'],inplace=True)"
   ]
  },
  {
   "cell_type": "code",
   "execution_count": 21,
   "metadata": {},
   "outputs": [],
   "source": [
    "df.drop_duplicates(subset=['name','rating','duration'],inplace=True)"
   ]
  },
  {
   "cell_type": "code",
   "execution_count": 22,
   "metadata": {},
   "outputs": [],
   "source": [
    "df = df[df['duration'] != 0]\n",
    "df=df[df['Year_of_Release']<2024]"
   ]
  },
  {
   "cell_type": "code",
   "execution_count": 23,
   "metadata": {},
   "outputs": [],
   "source": [
    "df=df[df['rating']<=10]"
   ]
  },
  {
   "cell_type": "code",
   "execution_count": 24,
   "metadata": {},
   "outputs": [],
   "source": [
    "df.rename(columns={'name': 'Name','rating':'Rating','duration':'Duration_min',\n",
    "                   'directors_name':'Directors_Name'}, inplace=True)\n",
    "df = df[['Name', 'Year_of_Release', 'Genre',  \n",
    "         'Directors_Name', 'Actor_list',  \n",
    "         'Duration_min', 'Rating']]"
   ]
  },
  {
   "cell_type": "code",
   "execution_count": 25,
   "metadata": {},
   "outputs": [
    {
     "data": {
      "application/vnd.microsoft.datawrangler.viewer.v0+json": {
       "columns": [
        {
         "name": "index",
         "rawType": "int64",
         "type": "integer"
        },
        {
         "name": "Name",
         "rawType": "object",
         "type": "string"
        },
        {
         "name": "Year_of_Release",
         "rawType": "int32",
         "type": "integer"
        },
        {
         "name": "Genre",
         "rawType": "object",
         "type": "unknown"
        },
        {
         "name": "Directors_Name",
         "rawType": "object",
         "type": "string"
        },
        {
         "name": "Actor_list",
         "rawType": "object",
         "type": "unknown"
        },
        {
         "name": "Duration_min",
         "rawType": "float64",
         "type": "float"
        },
        {
         "name": "Rating",
         "rawType": "float64",
         "type": "float"
        }
       ],
       "conversionMethod": "pd.DataFrame",
       "ref": "8aaa9155-d7de-4a08-86fe-740fc419c31b",
       "rows": [
        [
         "1472055",
         "Fudgy Wudgy Fudge Face",
         "2010",
         "['Adventure', 'Comedy', 'Fantasy']",
         "Harland Williams",
         "['Alonzo Bodden', 'Josh Coxx', 'Andy Dick', 'T.J. Jefferson']",
         "130.0",
         "6.7"
        ],
        [
         "1470623",
         "The Damned",
         "1947",
         "['Adventure', 'Drama', 'Thriller']",
         "René Clément",
         "['Marcel Dalio', 'Henri Vidal', 'Florence Marly', 'Fosco Giachetti']",
         "105.0",
         "7.1"
        ],
        [
         "1011864",
         "Adventures in Odyssey: A Stranger Among Us",
         "1998",
         "['Animation', 'Short', 'Family']",
         "Stephen Stiles,Robert Vernon,Ken C. Johnson",
         "['William Boyett', 'Walker Edmiston', 'Kyle Gibson', 'Paul Herlinger']",
         "30.0",
         "7.1"
        ],
        [
         "10215",
         "Parvarish",
         "1977",
         "['Action', 'Crime', 'Drama']",
         "Manmohan Desai",
         "['Shammi Kapoor', 'Amitabh Bachchan', 'Vinod Khanna', 'Neetu Singh']",
         "162.0",
         "6.9"
        ],
        [
         "223672",
         "The Invisible Man",
         "2018",
         "['Horror', 'Thriller']",
         "Rocky Burnswork",
         "['nm0000000']",
         "55.0",
         "4.7"
        ]
       ],
       "shape": {
        "columns": 7,
        "rows": 5
       }
      },
      "text/html": [
       "<div>\n",
       "<style scoped>\n",
       "    .dataframe tbody tr th:only-of-type {\n",
       "        vertical-align: middle;\n",
       "    }\n",
       "\n",
       "    .dataframe tbody tr th {\n",
       "        vertical-align: top;\n",
       "    }\n",
       "\n",
       "    .dataframe thead th {\n",
       "        text-align: right;\n",
       "    }\n",
       "</style>\n",
       "<table border=\"1\" class=\"dataframe\">\n",
       "  <thead>\n",
       "    <tr style=\"text-align: right;\">\n",
       "      <th></th>\n",
       "      <th>Name</th>\n",
       "      <th>Year_of_Release</th>\n",
       "      <th>Genre</th>\n",
       "      <th>Directors_Name</th>\n",
       "      <th>Actor_list</th>\n",
       "      <th>Duration_min</th>\n",
       "      <th>Rating</th>\n",
       "    </tr>\n",
       "  </thead>\n",
       "  <tbody>\n",
       "    <tr>\n",
       "      <th>1472055</th>\n",
       "      <td>Fudgy Wudgy Fudge Face</td>\n",
       "      <td>2010</td>\n",
       "      <td>[Adventure, Comedy, Fantasy]</td>\n",
       "      <td>Harland Williams</td>\n",
       "      <td>[Alonzo Bodden, Josh Coxx, Andy Dick, T.J. Jef...</td>\n",
       "      <td>130.0</td>\n",
       "      <td>6.7</td>\n",
       "    </tr>\n",
       "    <tr>\n",
       "      <th>1470623</th>\n",
       "      <td>The Damned</td>\n",
       "      <td>1947</td>\n",
       "      <td>[Adventure, Drama, Thriller]</td>\n",
       "      <td>René Clément</td>\n",
       "      <td>[Marcel Dalio, Henri Vidal, Florence Marly, Fo...</td>\n",
       "      <td>105.0</td>\n",
       "      <td>7.1</td>\n",
       "    </tr>\n",
       "    <tr>\n",
       "      <th>1011864</th>\n",
       "      <td>Adventures in Odyssey: A Stranger Among Us</td>\n",
       "      <td>1998</td>\n",
       "      <td>[Animation, Short, Family]</td>\n",
       "      <td>Stephen Stiles,Robert Vernon,Ken C. Johnson</td>\n",
       "      <td>[William Boyett, Walker Edmiston, Kyle Gibson,...</td>\n",
       "      <td>30.0</td>\n",
       "      <td>7.1</td>\n",
       "    </tr>\n",
       "    <tr>\n",
       "      <th>10215</th>\n",
       "      <td>Parvarish</td>\n",
       "      <td>1977</td>\n",
       "      <td>[Action, Crime, Drama]</td>\n",
       "      <td>Manmohan Desai</td>\n",
       "      <td>[Shammi Kapoor, Amitabh Bachchan, Vinod Khanna...</td>\n",
       "      <td>162.0</td>\n",
       "      <td>6.9</td>\n",
       "    </tr>\n",
       "    <tr>\n",
       "      <th>223672</th>\n",
       "      <td>The Invisible Man</td>\n",
       "      <td>2018</td>\n",
       "      <td>[Horror, Thriller]</td>\n",
       "      <td>Rocky Burnswork</td>\n",
       "      <td>[nm0000000]</td>\n",
       "      <td>55.0</td>\n",
       "      <td>4.7</td>\n",
       "    </tr>\n",
       "  </tbody>\n",
       "</table>\n",
       "</div>"
      ],
      "text/plain": [
       "                                               Name  Year_of_Release  \\\n",
       "1472055                      Fudgy Wudgy Fudge Face             2010   \n",
       "1470623                                  The Damned             1947   \n",
       "1011864  Adventures in Odyssey: A Stranger Among Us             1998   \n",
       "10215                                     Parvarish             1977   \n",
       "223672                            The Invisible Man             2018   \n",
       "\n",
       "                                Genre  \\\n",
       "1472055  [Adventure, Comedy, Fantasy]   \n",
       "1470623  [Adventure, Drama, Thriller]   \n",
       "1011864    [Animation, Short, Family]   \n",
       "10215          [Action, Crime, Drama]   \n",
       "223672             [Horror, Thriller]   \n",
       "\n",
       "                                      Directors_Name  \\\n",
       "1472055                             Harland Williams   \n",
       "1470623                                 René Clément   \n",
       "1011864  Stephen Stiles,Robert Vernon,Ken C. Johnson   \n",
       "10215                                 Manmohan Desai   \n",
       "223672                               Rocky Burnswork   \n",
       "\n",
       "                                                Actor_list  Duration_min  \\\n",
       "1472055  [Alonzo Bodden, Josh Coxx, Andy Dick, T.J. Jef...         130.0   \n",
       "1470623  [Marcel Dalio, Henri Vidal, Florence Marly, Fo...         105.0   \n",
       "1011864  [William Boyett, Walker Edmiston, Kyle Gibson,...          30.0   \n",
       "10215    [Shammi Kapoor, Amitabh Bachchan, Vinod Khanna...         162.0   \n",
       "223672                                         [nm0000000]          55.0   \n",
       "\n",
       "         Rating  \n",
       "1472055     6.7  \n",
       "1470623     7.1  \n",
       "1011864     7.1  \n",
       "10215       6.9  \n",
       "223672      4.7  "
      ]
     },
     "execution_count": 25,
     "metadata": {},
     "output_type": "execute_result"
    }
   ],
   "source": [
    "df.sample(5)"
   ]
  },
  {
   "cell_type": "code",
   "execution_count": null,
   "metadata": {},
   "outputs": [],
   "source": []
  }
 ],
 "metadata": {
  "kernelspec": {
   "display_name": "Python 3",
   "language": "python",
   "name": "python3"
  },
  "language_info": {
   "codemirror_mode": {
    "name": "ipython",
    "version": 3
   },
   "file_extension": ".py",
   "mimetype": "text/x-python",
   "name": "python",
   "nbconvert_exporter": "python",
   "pygments_lexer": "ipython3",
   "version": "3.11.9"
  }
 },
 "nbformat": 4,
 "nbformat_minor": 2
}
