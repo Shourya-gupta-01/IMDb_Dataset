{
 "cells": [
  {
   "cell_type": "code",
   "execution_count": 1,
   "metadata": {},
   "outputs": [],
   "source": [
    "import pandas as pd\n",
    "import numpy as np"
   ]
  },
  {
   "cell_type": "code",
   "execution_count": 2,
   "metadata": {},
   "outputs": [],
   "source": [
    "raw_data=pd.read_csv('movies.csv',low_memory=False)"
   ]
  },
  {
   "cell_type": "code",
   "execution_count": 3,
   "metadata": {},
   "outputs": [
    {
     "data": {
      "application/vnd.microsoft.datawrangler.viewer.v0+json": {
       "columns": [
        {
         "name": "index",
         "rawType": "int64",
         "type": "integer"
        },
        {
         "name": "id",
         "rawType": "object",
         "type": "string"
        },
        {
         "name": "name",
         "rawType": "object",
         "type": "string"
        },
        {
         "name": "year",
         "rawType": "object",
         "type": "string"
        },
        {
         "name": "rating",
         "rawType": "float64",
         "type": "float"
        },
        {
         "name": "certificate",
         "rawType": "object",
         "type": "string"
        },
        {
         "name": "duration",
         "rawType": "object",
         "type": "string"
        },
        {
         "name": "genre",
         "rawType": "object",
         "type": "string"
        },
        {
         "name": "votes",
         "rawType": "object",
         "type": "string"
        },
        {
         "name": "gross_income",
         "rawType": "object",
         "type": "string"
        },
        {
         "name": "directors_id",
         "rawType": "object",
         "type": "string"
        },
        {
         "name": "directors_name",
         "rawType": "object",
         "type": "string"
        },
        {
         "name": "stars_id",
         "rawType": "object",
         "type": "string"
        },
        {
         "name": "stars_name",
         "rawType": "object",
         "type": "string"
        },
        {
         "name": "description",
         "rawType": "object",
         "type": "string"
        }
       ],
       "conversionMethod": "pd.DataFrame",
       "ref": "7f0a8d94-c994-4a4e-8034-6db64df9d850",
       "rows": [
        [
         "393994",
         "tt6617184",
         "Apollo 11 1/2",
         "(2017)",
         "7.4",
         "Not Certified",
         "5 min",
         "Documentary, Short, Comedy",
         "12",
         "0",
         "/name/nm0374924/,/name/nm8831060/",
         "Olaf Held,William F. Naumann",
         "nm8831060",
         "William F. Naumann",
         "On July 21, 1969 some strange phenomena occurred in parts of the USA and made many Americans go crazy. This documentary tries to find what really happened."
        ],
        [
         "1670429",
         "tt12241936",
         "Playing Through",
         "(2022)",
         "9.1",
         "Not Certified",
         "0 min",
         "Sport",
         "9",
         "1,791,147",
         "nm2381578",
         "Balbinka Korzeniowska",
         "nm1182011,nm2301600,nm1237235,nm3719644",
         "Timothy V. Murphy,Sam Daly,Ronnie Gene Blevins,John Anderson",
         "Late in her career, Ann Gregory finds the courage to be the first woman of color to enter the USGA Women's Amateur. She collides with Babs Whatling, a privileged white woman from the south who is searching for her own identity."
        ],
        [
         "2520897",
         "tt4160924",
         " Beat Bobby Flay",
         "(2013– )",
         "8.0",
         "TV-G",
         "22 min",
         "Game-Show, Reality-TV",
         "13",
         "0",
         "Anonymous",
         "nm0000000",
         "nm0991680,nm3037970,nm3991141,nm3354886",
         "Bobby Flay,Anne Burrell,Jake Gandolfo,Alex Guarnaschelli",
         "It's California vs. cowboy cuisine, when Raphael Lunetta compete against Jake Gandolfo for the chance to beat Bobby Flay."
        ],
        [
         "2154723",
         "tt15360418",
         "Dongalunnaru Jagratta",
         "(2100 - )",
         "11.0",
         "Not Certified",
         "0 min",
         "Thriller",
         "0",
         "0",
         "nm12649782",
         "Satish Tripura",
         "nm2284321,nm1302330,nm9842626",
         "Samuthirakani,Murli Sharma,Sri Simha Koduri",
         "Raju, a petty thief, decides to rob an expensive SUV and soon realizes that the car is an inescapable trap. Here starts Raju's excruciating race against time to survive inside the SUV where...                See full summary »"
        ],
        [
         "1514441",
         "tt0526233",
         " Birds of Prey",
         "(2002–2003)",
         "7.0",
         "TV-14",
         "39 min",
         "Action, Adventure, Drama",
         "151",
         "0",
         "nm0518910",
         "Chris Long",
         "nm1008709,nm0000539,nm0803896,nm0005245",
         "Ashley Scott,Dina Meyer,Rachel Skarsten,Shemar Moore",
         "Several meta humans are being killed. And it seems they were killed by their abilities."
        ],
        [
         "762953",
         "tt13321604",
         " Animaniacs",
         "(2020– )",
         "7.4",
         "Not Certified",
         "27 min",
         "Animation, Short, Adventure",
         "148",
         "0",
         "nm1407728",
         "Katie Rice",
         "nm0363641,nm0005606,nm0534134,nm0667326",
         "Jess Harnell,Maurice LaMarche,Tress MacNeille,Rob Paulsen",
         "The Warners hunt a doughnut thief; Brain creates a perfect First Lady as he runs for President; Starbox fails to escape Cindy's adoring grasp."
        ],
        [
         "2560653",
         "tt7175646",
         " Card Sharks",
         "(1978–2019)",
         "11.0",
         "TV-G",
         "0 min",
         "Family, Game-Show",
         "0",
         "0",
         "nm0022750",
         "Paul Alter",
         "nm0675124,nm0048550,nm0939712,nm0672155",
         "Jim Perry,Janice Baker,Gene Wood,Ann Pennington",
         "Add a Plot"
        ],
        [
         "1411485",
         "tt3641738",
         " Dig",
         "(2015)",
         "7.1",
         "TV-14",
         "65 min",
         "Drama, Mystery, Thriller",
         "333",
         "0",
         "nm1237416",
         "S.J. Clarkson",
         "nm0005042,nm0000162,nm1035854,nm0837223",
         "Jason Isaacs,Anne Heche,Ori Pfeffer,Alison Sudol",
         "Anxious to escape his demons, FBI agent Peter Connelly takes a job in Israel."
        ],
        [
         "342818",
         "tt2141253",
         " Resident Evil: First Hour",
         "(2011– )",
         "11.0",
         "Not Certified",
         "0 min",
         "Horror",
         "0",
         "0",
         "nm4083506,nm3311016",
         "April Choi,Ross Peacock",
         "nm3219610,nm4089248,nm4804036",
         "Jeff Mash,Kevin Millington,James Whitwell",
         "The team encounters first hostile creature, one of the team members gets bitten."
        ],
        [
         "1508278",
         "tt4797294",
         "Son of Nor",
         "(2015 Video Game)",
         "11.0",
         "Not Certified",
         "0 min",
         "Adventure",
         "0",
         "0",
         "nm0140443",
         "Douglas Carrigan",
         "nm1512156,nm0523180,nm2022559,nm0789479",
         "Kate Higgins,Yuri Lowenthal,Dave B. Mitchell,David Shaughnessy",
         "Add a Plot"
        ]
       ],
       "shape": {
        "columns": 14,
        "rows": 10
       }
      },
      "text/html": [
       "<div>\n",
       "<style scoped>\n",
       "    .dataframe tbody tr th:only-of-type {\n",
       "        vertical-align: middle;\n",
       "    }\n",
       "\n",
       "    .dataframe tbody tr th {\n",
       "        vertical-align: top;\n",
       "    }\n",
       "\n",
       "    .dataframe thead th {\n",
       "        text-align: right;\n",
       "    }\n",
       "</style>\n",
       "<table border=\"1\" class=\"dataframe\">\n",
       "  <thead>\n",
       "    <tr style=\"text-align: right;\">\n",
       "      <th></th>\n",
       "      <th>id</th>\n",
       "      <th>name</th>\n",
       "      <th>year</th>\n",
       "      <th>rating</th>\n",
       "      <th>certificate</th>\n",
       "      <th>duration</th>\n",
       "      <th>genre</th>\n",
       "      <th>votes</th>\n",
       "      <th>gross_income</th>\n",
       "      <th>directors_id</th>\n",
       "      <th>directors_name</th>\n",
       "      <th>stars_id</th>\n",
       "      <th>stars_name</th>\n",
       "      <th>description</th>\n",
       "    </tr>\n",
       "  </thead>\n",
       "  <tbody>\n",
       "    <tr>\n",
       "      <th>393994</th>\n",
       "      <td>tt6617184</td>\n",
       "      <td>Apollo 11 1/2</td>\n",
       "      <td>(2017)</td>\n",
       "      <td>7.4</td>\n",
       "      <td>Not Certified</td>\n",
       "      <td>5 min</td>\n",
       "      <td>Documentary, Short, Comedy</td>\n",
       "      <td>12</td>\n",
       "      <td>0</td>\n",
       "      <td>/name/nm0374924/,/name/nm8831060/</td>\n",
       "      <td>Olaf Held,William F. Naumann</td>\n",
       "      <td>nm8831060</td>\n",
       "      <td>William F. Naumann</td>\n",
       "      <td>On July 21, 1969 some strange phenomena occurr...</td>\n",
       "    </tr>\n",
       "    <tr>\n",
       "      <th>1670429</th>\n",
       "      <td>tt12241936</td>\n",
       "      <td>Playing Through</td>\n",
       "      <td>(2022)</td>\n",
       "      <td>9.1</td>\n",
       "      <td>Not Certified</td>\n",
       "      <td>0 min</td>\n",
       "      <td>Sport</td>\n",
       "      <td>9</td>\n",
       "      <td>1,791,147</td>\n",
       "      <td>nm2381578</td>\n",
       "      <td>Balbinka Korzeniowska</td>\n",
       "      <td>nm1182011,nm2301600,nm1237235,nm3719644</td>\n",
       "      <td>Timothy V. Murphy,Sam Daly,Ronnie Gene Blevins...</td>\n",
       "      <td>Late in her career, Ann Gregory finds the cour...</td>\n",
       "    </tr>\n",
       "    <tr>\n",
       "      <th>2520897</th>\n",
       "      <td>tt4160924</td>\n",
       "      <td>Beat Bobby Flay</td>\n",
       "      <td>(2013– )</td>\n",
       "      <td>8.0</td>\n",
       "      <td>TV-G</td>\n",
       "      <td>22 min</td>\n",
       "      <td>Game-Show, Reality-TV</td>\n",
       "      <td>13</td>\n",
       "      <td>0</td>\n",
       "      <td>Anonymous</td>\n",
       "      <td>nm0000000</td>\n",
       "      <td>nm0991680,nm3037970,nm3991141,nm3354886</td>\n",
       "      <td>Bobby Flay,Anne Burrell,Jake Gandolfo,Alex Gua...</td>\n",
       "      <td>It's California vs. cowboy cuisine, when Rapha...</td>\n",
       "    </tr>\n",
       "    <tr>\n",
       "      <th>2154723</th>\n",
       "      <td>tt15360418</td>\n",
       "      <td>Dongalunnaru Jagratta</td>\n",
       "      <td>(2100 - )</td>\n",
       "      <td>11.0</td>\n",
       "      <td>Not Certified</td>\n",
       "      <td>0 min</td>\n",
       "      <td>Thriller</td>\n",
       "      <td>0</td>\n",
       "      <td>0</td>\n",
       "      <td>nm12649782</td>\n",
       "      <td>Satish Tripura</td>\n",
       "      <td>nm2284321,nm1302330,nm9842626</td>\n",
       "      <td>Samuthirakani,Murli Sharma,Sri Simha Koduri</td>\n",
       "      <td>Raju, a petty thief, decides to rob an expensi...</td>\n",
       "    </tr>\n",
       "    <tr>\n",
       "      <th>1514441</th>\n",
       "      <td>tt0526233</td>\n",
       "      <td>Birds of Prey</td>\n",
       "      <td>(2002–2003)</td>\n",
       "      <td>7.0</td>\n",
       "      <td>TV-14</td>\n",
       "      <td>39 min</td>\n",
       "      <td>Action, Adventure, Drama</td>\n",
       "      <td>151</td>\n",
       "      <td>0</td>\n",
       "      <td>nm0518910</td>\n",
       "      <td>Chris Long</td>\n",
       "      <td>nm1008709,nm0000539,nm0803896,nm0005245</td>\n",
       "      <td>Ashley Scott,Dina Meyer,Rachel Skarsten,Shemar...</td>\n",
       "      <td>Several meta humans are being killed. And it s...</td>\n",
       "    </tr>\n",
       "    <tr>\n",
       "      <th>762953</th>\n",
       "      <td>tt13321604</td>\n",
       "      <td>Animaniacs</td>\n",
       "      <td>(2020– )</td>\n",
       "      <td>7.4</td>\n",
       "      <td>Not Certified</td>\n",
       "      <td>27 min</td>\n",
       "      <td>Animation, Short, Adventure</td>\n",
       "      <td>148</td>\n",
       "      <td>0</td>\n",
       "      <td>nm1407728</td>\n",
       "      <td>Katie Rice</td>\n",
       "      <td>nm0363641,nm0005606,nm0534134,nm0667326</td>\n",
       "      <td>Jess Harnell,Maurice LaMarche,Tress MacNeille,...</td>\n",
       "      <td>The Warners hunt a doughnut thief; Brain creat...</td>\n",
       "    </tr>\n",
       "    <tr>\n",
       "      <th>2560653</th>\n",
       "      <td>tt7175646</td>\n",
       "      <td>Card Sharks</td>\n",
       "      <td>(1978–2019)</td>\n",
       "      <td>11.0</td>\n",
       "      <td>TV-G</td>\n",
       "      <td>0 min</td>\n",
       "      <td>Family, Game-Show</td>\n",
       "      <td>0</td>\n",
       "      <td>0</td>\n",
       "      <td>nm0022750</td>\n",
       "      <td>Paul Alter</td>\n",
       "      <td>nm0675124,nm0048550,nm0939712,nm0672155</td>\n",
       "      <td>Jim Perry,Janice Baker,Gene Wood,Ann Pennington</td>\n",
       "      <td>Add a Plot</td>\n",
       "    </tr>\n",
       "    <tr>\n",
       "      <th>1411485</th>\n",
       "      <td>tt3641738</td>\n",
       "      <td>Dig</td>\n",
       "      <td>(2015)</td>\n",
       "      <td>7.1</td>\n",
       "      <td>TV-14</td>\n",
       "      <td>65 min</td>\n",
       "      <td>Drama, Mystery, Thriller</td>\n",
       "      <td>333</td>\n",
       "      <td>0</td>\n",
       "      <td>nm1237416</td>\n",
       "      <td>S.J. Clarkson</td>\n",
       "      <td>nm0005042,nm0000162,nm1035854,nm0837223</td>\n",
       "      <td>Jason Isaacs,Anne Heche,Ori Pfeffer,Alison Sudol</td>\n",
       "      <td>Anxious to escape his demons, FBI agent Peter ...</td>\n",
       "    </tr>\n",
       "    <tr>\n",
       "      <th>342818</th>\n",
       "      <td>tt2141253</td>\n",
       "      <td>Resident Evil: First Hour</td>\n",
       "      <td>(2011– )</td>\n",
       "      <td>11.0</td>\n",
       "      <td>Not Certified</td>\n",
       "      <td>0 min</td>\n",
       "      <td>Horror</td>\n",
       "      <td>0</td>\n",
       "      <td>0</td>\n",
       "      <td>nm4083506,nm3311016</td>\n",
       "      <td>April Choi,Ross Peacock</td>\n",
       "      <td>nm3219610,nm4089248,nm4804036</td>\n",
       "      <td>Jeff Mash,Kevin Millington,James Whitwell</td>\n",
       "      <td>The team encounters first hostile creature, on...</td>\n",
       "    </tr>\n",
       "    <tr>\n",
       "      <th>1508278</th>\n",
       "      <td>tt4797294</td>\n",
       "      <td>Son of Nor</td>\n",
       "      <td>(2015 Video Game)</td>\n",
       "      <td>11.0</td>\n",
       "      <td>Not Certified</td>\n",
       "      <td>0 min</td>\n",
       "      <td>Adventure</td>\n",
       "      <td>0</td>\n",
       "      <td>0</td>\n",
       "      <td>nm0140443</td>\n",
       "      <td>Douglas Carrigan</td>\n",
       "      <td>nm1512156,nm0523180,nm2022559,nm0789479</td>\n",
       "      <td>Kate Higgins,Yuri Lowenthal,Dave B. Mitchell,D...</td>\n",
       "      <td>Add a Plot</td>\n",
       "    </tr>\n",
       "  </tbody>\n",
       "</table>\n",
       "</div>"
      ],
      "text/plain": [
       "                 id                        name               year  rating  \\\n",
       "393994    tt6617184               Apollo 11 1/2             (2017)     7.4   \n",
       "1670429  tt12241936             Playing Through             (2022)     9.1   \n",
       "2520897   tt4160924             Beat Bobby Flay           (2013– )     8.0   \n",
       "2154723  tt15360418       Dongalunnaru Jagratta          (2100 - )    11.0   \n",
       "1514441   tt0526233               Birds of Prey        (2002–2003)     7.0   \n",
       "762953   tt13321604                  Animaniacs           (2020– )     7.4   \n",
       "2560653   tt7175646                 Card Sharks        (1978–2019)    11.0   \n",
       "1411485   tt3641738                         Dig             (2015)     7.1   \n",
       "342818    tt2141253   Resident Evil: First Hour           (2011– )    11.0   \n",
       "1508278   tt4797294                  Son of Nor  (2015 Video Game)    11.0   \n",
       "\n",
       "           certificate duration                        genre votes  \\\n",
       "393994   Not Certified    5 min   Documentary, Short, Comedy    12   \n",
       "1670429  Not Certified    0 min                        Sport     9   \n",
       "2520897           TV-G   22 min        Game-Show, Reality-TV    13   \n",
       "2154723  Not Certified    0 min                     Thriller     0   \n",
       "1514441          TV-14   39 min     Action, Adventure, Drama   151   \n",
       "762953   Not Certified   27 min  Animation, Short, Adventure   148   \n",
       "2560653           TV-G    0 min            Family, Game-Show     0   \n",
       "1411485          TV-14   65 min     Drama, Mystery, Thriller   333   \n",
       "342818   Not Certified    0 min                       Horror     0   \n",
       "1508278  Not Certified    0 min                    Adventure     0   \n",
       "\n",
       "        gross_income                       directors_id  \\\n",
       "393994             0  /name/nm0374924/,/name/nm8831060/   \n",
       "1670429    1,791,147                          nm2381578   \n",
       "2520897            0                          Anonymous   \n",
       "2154723            0                         nm12649782   \n",
       "1514441            0                          nm0518910   \n",
       "762953             0                          nm1407728   \n",
       "2560653            0                          nm0022750   \n",
       "1411485            0                          nm1237416   \n",
       "342818             0                nm4083506,nm3311016   \n",
       "1508278            0                          nm0140443   \n",
       "\n",
       "                       directors_name  \\\n",
       "393994   Olaf Held,William F. Naumann   \n",
       "1670429         Balbinka Korzeniowska   \n",
       "2520897                     nm0000000   \n",
       "2154723                Satish Tripura   \n",
       "1514441                    Chris Long   \n",
       "762953                     Katie Rice   \n",
       "2560653                    Paul Alter   \n",
       "1411485                 S.J. Clarkson   \n",
       "342818        April Choi,Ross Peacock   \n",
       "1508278              Douglas Carrigan   \n",
       "\n",
       "                                        stars_id  \\\n",
       "393994                                 nm8831060   \n",
       "1670429  nm1182011,nm2301600,nm1237235,nm3719644   \n",
       "2520897  nm0991680,nm3037970,nm3991141,nm3354886   \n",
       "2154723            nm2284321,nm1302330,nm9842626   \n",
       "1514441  nm1008709,nm0000539,nm0803896,nm0005245   \n",
       "762953   nm0363641,nm0005606,nm0534134,nm0667326   \n",
       "2560653  nm0675124,nm0048550,nm0939712,nm0672155   \n",
       "1411485  nm0005042,nm0000162,nm1035854,nm0837223   \n",
       "342818             nm3219610,nm4089248,nm4804036   \n",
       "1508278  nm1512156,nm0523180,nm2022559,nm0789479   \n",
       "\n",
       "                                                stars_name  \\\n",
       "393994                                  William F. Naumann   \n",
       "1670429  Timothy V. Murphy,Sam Daly,Ronnie Gene Blevins...   \n",
       "2520897  Bobby Flay,Anne Burrell,Jake Gandolfo,Alex Gua...   \n",
       "2154723        Samuthirakani,Murli Sharma,Sri Simha Koduri   \n",
       "1514441  Ashley Scott,Dina Meyer,Rachel Skarsten,Shemar...   \n",
       "762953   Jess Harnell,Maurice LaMarche,Tress MacNeille,...   \n",
       "2560653    Jim Perry,Janice Baker,Gene Wood,Ann Pennington   \n",
       "1411485   Jason Isaacs,Anne Heche,Ori Pfeffer,Alison Sudol   \n",
       "342818           Jeff Mash,Kevin Millington,James Whitwell   \n",
       "1508278  Kate Higgins,Yuri Lowenthal,Dave B. Mitchell,D...   \n",
       "\n",
       "                                               description  \n",
       "393994   On July 21, 1969 some strange phenomena occurr...  \n",
       "1670429  Late in her career, Ann Gregory finds the cour...  \n",
       "2520897  It's California vs. cowboy cuisine, when Rapha...  \n",
       "2154723  Raju, a petty thief, decides to rob an expensi...  \n",
       "1514441  Several meta humans are being killed. And it s...  \n",
       "762953   The Warners hunt a doughnut thief; Brain creat...  \n",
       "2560653                                         Add a Plot  \n",
       "1411485  Anxious to escape his demons, FBI agent Peter ...  \n",
       "342818   The team encounters first hostile creature, on...  \n",
       "1508278                                         Add a Plot  "
      ]
     },
     "execution_count": 3,
     "metadata": {},
     "output_type": "execute_result"
    }
   ],
   "source": [
    "raw_data.sample(10)"
   ]
  },
  {
   "cell_type": "code",
   "execution_count": 4,
   "metadata": {},
   "outputs": [],
   "source": [
    "df=raw_data.copy()"
   ]
  },
  {
   "cell_type": "markdown",
   "metadata": {},
   "source": [
    "### Removing unwanted columns."
   ]
  },
  {
   "cell_type": "code",
   "execution_count": 5,
   "metadata": {},
   "outputs": [],
   "source": [
    "df.drop(columns=['votes','directors_id','stars_id','description','gross_income'],inplace=True)"
   ]
  },
  {
   "cell_type": "code",
   "execution_count": 6,
   "metadata": {},
   "outputs": [
    {
     "data": {
      "application/vnd.microsoft.datawrangler.viewer.v0+json": {
       "columns": [
        {
         "name": "index",
         "rawType": "int64",
         "type": "integer"
        },
        {
         "name": "id",
         "rawType": "object",
         "type": "string"
        },
        {
         "name": "name",
         "rawType": "object",
         "type": "string"
        },
        {
         "name": "year",
         "rawType": "object",
         "type": "string"
        },
        {
         "name": "rating",
         "rawType": "float64",
         "type": "float"
        },
        {
         "name": "certificate",
         "rawType": "object",
         "type": "string"
        },
        {
         "name": "duration",
         "rawType": "object",
         "type": "string"
        },
        {
         "name": "genre",
         "rawType": "object",
         "type": "string"
        },
        {
         "name": "directors_name",
         "rawType": "object",
         "type": "string"
        },
        {
         "name": "stars_name",
         "rawType": "object",
         "type": "string"
        }
       ],
       "conversionMethod": "pd.DataFrame",
       "ref": "599837b2-258e-4ef6-9b04-3e25da1043bf",
       "rows": [
        [
         "1161261",
         "tt12681694",
         " Stephen Colbert Presents Tooning Out The News",
         "(2020– )",
         "11.0",
         "TV-14",
         "0 min",
         "Animation, Comedy, News",
         "Stephen A. Brooks,Dale Clowdis",
         "Addison Anderson,Jack Bensinger,Jeremy Bent,Neil D'Astolfo"
        ],
        [
         "2416154",
         "tt15868928",
         " Richard Osman's House of Games",
         "(2017– )",
         "7.2",
         "Not Certified",
         "0 min",
         "Game-Show",
         "John Smith",
         "Richard Osman,Nina Conti,Nick Helm,Athena Kugblenu"
        ],
        [
         "1346158",
         "tt4938504",
         "Illusion",
         "(2015)",
         "11.0",
         "Not Certified",
         "15 min",
         "Short, Drama, Mystery",
         "Woon Park",
         "nm0000000"
        ],
        [
         "1778682",
         "tt15670858",
         " 2003-2004 UEFA Champions League",
         "(2003–2004)",
         "11.0",
         "Not Certified",
         "0 min",
         "Sport",
         "nm0000000",
         "David Bellion,Nicky Butt,Kostas Chalkias,Eric Djemba-Djemba"
        ],
        [
         "1549919",
         "tt13630018",
         " WKUK Try to Play a Role Playing Game - The Buckerson & Meyers Saga",
         "(2020– )",
         "11.0",
         "Not Certified",
         "89 min",
         "Action, Adventure, Comedy",
         "Timmy Williams",
         "Sam Brown,Zach Cregger,Trevor Moore,Darren Trumeter"
        ]
       ],
       "shape": {
        "columns": 9,
        "rows": 5
       }
      },
      "text/html": [
       "<div>\n",
       "<style scoped>\n",
       "    .dataframe tbody tr th:only-of-type {\n",
       "        vertical-align: middle;\n",
       "    }\n",
       "\n",
       "    .dataframe tbody tr th {\n",
       "        vertical-align: top;\n",
       "    }\n",
       "\n",
       "    .dataframe thead th {\n",
       "        text-align: right;\n",
       "    }\n",
       "</style>\n",
       "<table border=\"1\" class=\"dataframe\">\n",
       "  <thead>\n",
       "    <tr style=\"text-align: right;\">\n",
       "      <th></th>\n",
       "      <th>id</th>\n",
       "      <th>name</th>\n",
       "      <th>year</th>\n",
       "      <th>rating</th>\n",
       "      <th>certificate</th>\n",
       "      <th>duration</th>\n",
       "      <th>genre</th>\n",
       "      <th>directors_name</th>\n",
       "      <th>stars_name</th>\n",
       "    </tr>\n",
       "  </thead>\n",
       "  <tbody>\n",
       "    <tr>\n",
       "      <th>1161261</th>\n",
       "      <td>tt12681694</td>\n",
       "      <td>Stephen Colbert Presents Tooning Out The News</td>\n",
       "      <td>(2020– )</td>\n",
       "      <td>11.0</td>\n",
       "      <td>TV-14</td>\n",
       "      <td>0 min</td>\n",
       "      <td>Animation, Comedy, News</td>\n",
       "      <td>Stephen A. Brooks,Dale Clowdis</td>\n",
       "      <td>Addison Anderson,Jack Bensinger,Jeremy Bent,Ne...</td>\n",
       "    </tr>\n",
       "    <tr>\n",
       "      <th>2416154</th>\n",
       "      <td>tt15868928</td>\n",
       "      <td>Richard Osman's House of Games</td>\n",
       "      <td>(2017– )</td>\n",
       "      <td>7.2</td>\n",
       "      <td>Not Certified</td>\n",
       "      <td>0 min</td>\n",
       "      <td>Game-Show</td>\n",
       "      <td>John Smith</td>\n",
       "      <td>Richard Osman,Nina Conti,Nick Helm,Athena Kugb...</td>\n",
       "    </tr>\n",
       "    <tr>\n",
       "      <th>1346158</th>\n",
       "      <td>tt4938504</td>\n",
       "      <td>Illusion</td>\n",
       "      <td>(2015)</td>\n",
       "      <td>11.0</td>\n",
       "      <td>Not Certified</td>\n",
       "      <td>15 min</td>\n",
       "      <td>Short, Drama, Mystery</td>\n",
       "      <td>Woon Park</td>\n",
       "      <td>nm0000000</td>\n",
       "    </tr>\n",
       "    <tr>\n",
       "      <th>1778682</th>\n",
       "      <td>tt15670858</td>\n",
       "      <td>2003-2004 UEFA Champions League</td>\n",
       "      <td>(2003–2004)</td>\n",
       "      <td>11.0</td>\n",
       "      <td>Not Certified</td>\n",
       "      <td>0 min</td>\n",
       "      <td>Sport</td>\n",
       "      <td>nm0000000</td>\n",
       "      <td>David Bellion,Nicky Butt,Kostas Chalkias,Eric ...</td>\n",
       "    </tr>\n",
       "    <tr>\n",
       "      <th>1549919</th>\n",
       "      <td>tt13630018</td>\n",
       "      <td>WKUK Try to Play a Role Playing Game - The Bu...</td>\n",
       "      <td>(2020– )</td>\n",
       "      <td>11.0</td>\n",
       "      <td>Not Certified</td>\n",
       "      <td>89 min</td>\n",
       "      <td>Action, Adventure, Comedy</td>\n",
       "      <td>Timmy Williams</td>\n",
       "      <td>Sam Brown,Zach Cregger,Trevor Moore,Darren Tru...</td>\n",
       "    </tr>\n",
       "  </tbody>\n",
       "</table>\n",
       "</div>"
      ],
      "text/plain": [
       "                 id                                               name  \\\n",
       "1161261  tt12681694      Stephen Colbert Presents Tooning Out The News   \n",
       "2416154  tt15868928                     Richard Osman's House of Games   \n",
       "1346158   tt4938504                                           Illusion   \n",
       "1778682  tt15670858                    2003-2004 UEFA Champions League   \n",
       "1549919  tt13630018   WKUK Try to Play a Role Playing Game - The Bu...   \n",
       "\n",
       "                year  rating    certificate duration  \\\n",
       "1161261     (2020– )    11.0          TV-14    0 min   \n",
       "2416154     (2017– )     7.2  Not Certified    0 min   \n",
       "1346158       (2015)    11.0  Not Certified   15 min   \n",
       "1778682  (2003–2004)    11.0  Not Certified    0 min   \n",
       "1549919     (2020– )    11.0  Not Certified   89 min   \n",
       "\n",
       "                             genre                  directors_name  \\\n",
       "1161261    Animation, Comedy, News  Stephen A. Brooks,Dale Clowdis   \n",
       "2416154                  Game-Show                      John Smith   \n",
       "1346158      Short, Drama, Mystery                       Woon Park   \n",
       "1778682                      Sport                       nm0000000   \n",
       "1549919  Action, Adventure, Comedy                  Timmy Williams   \n",
       "\n",
       "                                                stars_name  \n",
       "1161261  Addison Anderson,Jack Bensinger,Jeremy Bent,Ne...  \n",
       "2416154  Richard Osman,Nina Conti,Nick Helm,Athena Kugb...  \n",
       "1346158                                          nm0000000  \n",
       "1778682  David Bellion,Nicky Butt,Kostas Chalkias,Eric ...  \n",
       "1549919  Sam Brown,Zach Cregger,Trevor Moore,Darren Tru...  "
      ]
     },
     "execution_count": 6,
     "metadata": {},
     "output_type": "execute_result"
    }
   ],
   "source": [
    "df.sample(5)"
   ]
  },
  {
   "cell_type": "markdown",
   "metadata": {},
   "source": [
    "### Cleaning name column."
   ]
  },
  {
   "cell_type": "code",
   "execution_count": 7,
   "metadata": {},
   "outputs": [],
   "source": [
    "df.dropna(subset=['name'],inplace=True)"
   ]
  },
  {
   "cell_type": "code",
   "execution_count": 8,
   "metadata": {},
   "outputs": [],
   "source": [
    "df.drop_duplicates(subset=['name','year'],inplace=True)"
   ]
  },
  {
   "cell_type": "code",
   "execution_count": 9,
   "metadata": {},
   "outputs": [
    {
     "data": {
      "application/vnd.microsoft.datawrangler.viewer.v0+json": {
       "columns": [
        {
         "name": "index",
         "rawType": "int64",
         "type": "integer"
        },
        {
         "name": "id",
         "rawType": "object",
         "type": "string"
        },
        {
         "name": "name",
         "rawType": "object",
         "type": "string"
        },
        {
         "name": "year",
         "rawType": "object",
         "type": "string"
        },
        {
         "name": "rating",
         "rawType": "float64",
         "type": "float"
        },
        {
         "name": "certificate",
         "rawType": "object",
         "type": "string"
        },
        {
         "name": "duration",
         "rawType": "object",
         "type": "string"
        },
        {
         "name": "genre",
         "rawType": "object",
         "type": "string"
        },
        {
         "name": "directors_name",
         "rawType": "object",
         "type": "string"
        },
        {
         "name": "stars_name",
         "rawType": "object",
         "type": "string"
        }
       ],
       "conversionMethod": "pd.DataFrame",
       "ref": "170baf8c-c481-4b0d-909e-4d13ecc2e93f",
       "rows": [
        [
         "2174896",
         "tt10551020",
         "This Is What You Came For",
         "(2019)",
         "11.0",
         "Not Certified",
         "0 min",
         "Short, Thriller",
         "Ibrahim Aldridge",
         "Tim Baylar,Emmy Brennan,Kate Rinna"
        ],
        [
         "1077702",
         "tt4378146",
         "The Penguin Did It!",
         "(2014)",
         "11.0",
         "Not Certified",
         "0 min",
         "Animation, Short, Comedy",
         "Caelan Cavanagh",
         "nm0000000"
        ],
        [
         "1492066",
         "tt15008494",
         "To the Middle of Nowhere: The Making of 'Gone'",
         "(2007 Video)",
         "11.0",
         "Not Certified",
         "30 min",
         "Documentary, Short, Action",
         "nm0000000",
         "Deborah Balderstone,Kase Connell,Shaun Evans,Reg Garside"
        ],
        [
         "1073974",
         "tt10499546",
         "But explained with stick figures",
         "(2019– )",
         "11.0",
         "Not Certified",
         "5 min",
         "Animation",
         "nm0000000",
         "nm0000000"
        ],
        [
         "389257",
         "tt2235464",
         "Wagonmasters",
         "(2012)",
         "7.1",
         "Not Certified",
         "37 min",
         "Documentary, Short, Comedy",
         "Sam Smartt,Christopher Zaluski",
         "nm0000000"
        ]
       ],
       "shape": {
        "columns": 9,
        "rows": 5
       }
      },
      "text/html": [
       "<div>\n",
       "<style scoped>\n",
       "    .dataframe tbody tr th:only-of-type {\n",
       "        vertical-align: middle;\n",
       "    }\n",
       "\n",
       "    .dataframe tbody tr th {\n",
       "        vertical-align: top;\n",
       "    }\n",
       "\n",
       "    .dataframe thead th {\n",
       "        text-align: right;\n",
       "    }\n",
       "</style>\n",
       "<table border=\"1\" class=\"dataframe\">\n",
       "  <thead>\n",
       "    <tr style=\"text-align: right;\">\n",
       "      <th></th>\n",
       "      <th>id</th>\n",
       "      <th>name</th>\n",
       "      <th>year</th>\n",
       "      <th>rating</th>\n",
       "      <th>certificate</th>\n",
       "      <th>duration</th>\n",
       "      <th>genre</th>\n",
       "      <th>directors_name</th>\n",
       "      <th>stars_name</th>\n",
       "    </tr>\n",
       "  </thead>\n",
       "  <tbody>\n",
       "    <tr>\n",
       "      <th>2174896</th>\n",
       "      <td>tt10551020</td>\n",
       "      <td>This Is What You Came For</td>\n",
       "      <td>(2019)</td>\n",
       "      <td>11.0</td>\n",
       "      <td>Not Certified</td>\n",
       "      <td>0 min</td>\n",
       "      <td>Short, Thriller</td>\n",
       "      <td>Ibrahim Aldridge</td>\n",
       "      <td>Tim Baylar,Emmy Brennan,Kate Rinna</td>\n",
       "    </tr>\n",
       "    <tr>\n",
       "      <th>1077702</th>\n",
       "      <td>tt4378146</td>\n",
       "      <td>The Penguin Did It!</td>\n",
       "      <td>(2014)</td>\n",
       "      <td>11.0</td>\n",
       "      <td>Not Certified</td>\n",
       "      <td>0 min</td>\n",
       "      <td>Animation, Short, Comedy</td>\n",
       "      <td>Caelan Cavanagh</td>\n",
       "      <td>nm0000000</td>\n",
       "    </tr>\n",
       "    <tr>\n",
       "      <th>1492066</th>\n",
       "      <td>tt15008494</td>\n",
       "      <td>To the Middle of Nowhere: The Making of 'Gone'</td>\n",
       "      <td>(2007 Video)</td>\n",
       "      <td>11.0</td>\n",
       "      <td>Not Certified</td>\n",
       "      <td>30 min</td>\n",
       "      <td>Documentary, Short, Action</td>\n",
       "      <td>nm0000000</td>\n",
       "      <td>Deborah Balderstone,Kase Connell,Shaun Evans,R...</td>\n",
       "    </tr>\n",
       "    <tr>\n",
       "      <th>1073974</th>\n",
       "      <td>tt10499546</td>\n",
       "      <td>But explained with stick figures</td>\n",
       "      <td>(2019– )</td>\n",
       "      <td>11.0</td>\n",
       "      <td>Not Certified</td>\n",
       "      <td>5 min</td>\n",
       "      <td>Animation</td>\n",
       "      <td>nm0000000</td>\n",
       "      <td>nm0000000</td>\n",
       "    </tr>\n",
       "    <tr>\n",
       "      <th>389257</th>\n",
       "      <td>tt2235464</td>\n",
       "      <td>Wagonmasters</td>\n",
       "      <td>(2012)</td>\n",
       "      <td>7.1</td>\n",
       "      <td>Not Certified</td>\n",
       "      <td>37 min</td>\n",
       "      <td>Documentary, Short, Comedy</td>\n",
       "      <td>Sam Smartt,Christopher Zaluski</td>\n",
       "      <td>nm0000000</td>\n",
       "    </tr>\n",
       "  </tbody>\n",
       "</table>\n",
       "</div>"
      ],
      "text/plain": [
       "                 id                                            name  \\\n",
       "2174896  tt10551020                       This Is What You Came For   \n",
       "1077702   tt4378146                             The Penguin Did It!   \n",
       "1492066  tt15008494  To the Middle of Nowhere: The Making of 'Gone'   \n",
       "1073974  tt10499546                But explained with stick figures   \n",
       "389257    tt2235464                                    Wagonmasters   \n",
       "\n",
       "                 year  rating    certificate duration  \\\n",
       "2174896        (2019)    11.0  Not Certified    0 min   \n",
       "1077702        (2014)    11.0  Not Certified    0 min   \n",
       "1492066  (2007 Video)    11.0  Not Certified   30 min   \n",
       "1073974      (2019– )    11.0  Not Certified    5 min   \n",
       "389257         (2012)     7.1  Not Certified   37 min   \n",
       "\n",
       "                              genre                  directors_name  \\\n",
       "2174896             Short, Thriller                Ibrahim Aldridge   \n",
       "1077702    Animation, Short, Comedy                 Caelan Cavanagh   \n",
       "1492066  Documentary, Short, Action                       nm0000000   \n",
       "1073974                   Animation                       nm0000000   \n",
       "389257   Documentary, Short, Comedy  Sam Smartt,Christopher Zaluski   \n",
       "\n",
       "                                                stars_name  \n",
       "2174896                 Tim Baylar,Emmy Brennan,Kate Rinna  \n",
       "1077702                                          nm0000000  \n",
       "1492066  Deborah Balderstone,Kase Connell,Shaun Evans,R...  \n",
       "1073974                                          nm0000000  \n",
       "389257                                           nm0000000  "
      ]
     },
     "execution_count": 9,
     "metadata": {},
     "output_type": "execute_result"
    }
   ],
   "source": [
    "df.sample(5)"
   ]
  },
  {
   "cell_type": "markdown",
   "metadata": {},
   "source": [
    "### Cleaning Year column."
   ]
  },
  {
   "cell_type": "code",
   "execution_count": 10,
   "metadata": {},
   "outputs": [],
   "source": [
    "import re\n",
    "\n",
    "pattern = r\"\\((\\d{4})\"\n",
    "df['Year_of_Release'] = df['year'].apply(lambda x: re.search(pattern, x).group(1) if re.search(pattern, x) else None)"
   ]
  },
  {
   "cell_type": "code",
   "execution_count": 11,
   "metadata": {},
   "outputs": [],
   "source": [
    "df.dropna(subset=['Year_of_Release'], inplace=True)"
   ]
  },
  {
   "cell_type": "code",
   "execution_count": 12,
   "metadata": {},
   "outputs": [],
   "source": [
    "df['Year_of_Release']=df['Year_of_Release'].astype(int)"
   ]
  },
  {
   "cell_type": "code",
   "execution_count": 13,
   "metadata": {},
   "outputs": [
    {
     "data": {
      "application/vnd.microsoft.datawrangler.viewer.v0+json": {
       "columns": [
        {
         "name": "index",
         "rawType": "int64",
         "type": "integer"
        },
        {
         "name": "id",
         "rawType": "object",
         "type": "string"
        },
        {
         "name": "name",
         "rawType": "object",
         "type": "string"
        },
        {
         "name": "year",
         "rawType": "object",
         "type": "string"
        },
        {
         "name": "rating",
         "rawType": "float64",
         "type": "float"
        },
        {
         "name": "certificate",
         "rawType": "object",
         "type": "string"
        },
        {
         "name": "duration",
         "rawType": "object",
         "type": "string"
        },
        {
         "name": "genre",
         "rawType": "object",
         "type": "string"
        },
        {
         "name": "directors_name",
         "rawType": "object",
         "type": "string"
        },
        {
         "name": "stars_name",
         "rawType": "object",
         "type": "string"
        },
        {
         "name": "Year_of_Release",
         "rawType": "int32",
         "type": "integer"
        }
       ],
       "conversionMethod": "pd.DataFrame",
       "ref": "010ed09a-175a-4d15-994b-74344f8d1a32",
       "rows": [
        [
         "1294865",
         "tt1392159",
         "The Gold Seeker's Daughter",
         "(1909)",
         "11.0",
         "Not Certified",
         "0 min",
         "Short, Western",
         "Fred J. Balshofer",
         "nm0000000",
         "1909"
        ],
        [
         "839305",
         "tt0943642",
         "Freefonix",
         "(2008–2009)",
         "7.8",
         "Not Certified",
         "22 min",
         "Animation, Music",
         "nm0000000",
         "Shelley Longworth,Jules de Jongh,Adam Longworth,Susan Zelouf",
         "2008"
        ],
        [
         "1501918",
         "tt14893206",
         "Road to the health in time-lapse",
         "(2019 Video)",
         "11.0",
         "Not Certified",
         "0 min",
         "Short, Adventure",
         "Roman Matovsky",
         "nm0000000",
         "2019"
        ],
        [
         "732497",
         "tt0259304",
         "Falling Away from Me",
         "(1999 Video)",
         "7.7",
         "Not Certified",
         "108 min",
         "Drama, Musical",
         "nm0000000",
         "nm0000000",
         "1999"
        ],
        [
         "997204",
         "tt16280150",
         "Velocity Girl Nothing",
         "(1996 Music Video)",
         "11.0",
         "Not Certified",
         "0 min",
         "Music",
         "Jonathon Stearns",
         "nm0000000",
         "1996"
        ]
       ],
       "shape": {
        "columns": 10,
        "rows": 5
       }
      },
      "text/html": [
       "<div>\n",
       "<style scoped>\n",
       "    .dataframe tbody tr th:only-of-type {\n",
       "        vertical-align: middle;\n",
       "    }\n",
       "\n",
       "    .dataframe tbody tr th {\n",
       "        vertical-align: top;\n",
       "    }\n",
       "\n",
       "    .dataframe thead th {\n",
       "        text-align: right;\n",
       "    }\n",
       "</style>\n",
       "<table border=\"1\" class=\"dataframe\">\n",
       "  <thead>\n",
       "    <tr style=\"text-align: right;\">\n",
       "      <th></th>\n",
       "      <th>id</th>\n",
       "      <th>name</th>\n",
       "      <th>year</th>\n",
       "      <th>rating</th>\n",
       "      <th>certificate</th>\n",
       "      <th>duration</th>\n",
       "      <th>genre</th>\n",
       "      <th>directors_name</th>\n",
       "      <th>stars_name</th>\n",
       "      <th>Year_of_Release</th>\n",
       "    </tr>\n",
       "  </thead>\n",
       "  <tbody>\n",
       "    <tr>\n",
       "      <th>1294865</th>\n",
       "      <td>tt1392159</td>\n",
       "      <td>The Gold Seeker's Daughter</td>\n",
       "      <td>(1909)</td>\n",
       "      <td>11.0</td>\n",
       "      <td>Not Certified</td>\n",
       "      <td>0 min</td>\n",
       "      <td>Short, Western</td>\n",
       "      <td>Fred J. Balshofer</td>\n",
       "      <td>nm0000000</td>\n",
       "      <td>1909</td>\n",
       "    </tr>\n",
       "    <tr>\n",
       "      <th>839305</th>\n",
       "      <td>tt0943642</td>\n",
       "      <td>Freefonix</td>\n",
       "      <td>(2008–2009)</td>\n",
       "      <td>7.8</td>\n",
       "      <td>Not Certified</td>\n",
       "      <td>22 min</td>\n",
       "      <td>Animation, Music</td>\n",
       "      <td>nm0000000</td>\n",
       "      <td>Shelley Longworth,Jules de Jongh,Adam Longwort...</td>\n",
       "      <td>2008</td>\n",
       "    </tr>\n",
       "    <tr>\n",
       "      <th>1501918</th>\n",
       "      <td>tt14893206</td>\n",
       "      <td>Road to the health in time-lapse</td>\n",
       "      <td>(2019 Video)</td>\n",
       "      <td>11.0</td>\n",
       "      <td>Not Certified</td>\n",
       "      <td>0 min</td>\n",
       "      <td>Short, Adventure</td>\n",
       "      <td>Roman Matovsky</td>\n",
       "      <td>nm0000000</td>\n",
       "      <td>2019</td>\n",
       "    </tr>\n",
       "    <tr>\n",
       "      <th>732497</th>\n",
       "      <td>tt0259304</td>\n",
       "      <td>Falling Away from Me</td>\n",
       "      <td>(1999 Video)</td>\n",
       "      <td>7.7</td>\n",
       "      <td>Not Certified</td>\n",
       "      <td>108 min</td>\n",
       "      <td>Drama, Musical</td>\n",
       "      <td>nm0000000</td>\n",
       "      <td>nm0000000</td>\n",
       "      <td>1999</td>\n",
       "    </tr>\n",
       "    <tr>\n",
       "      <th>997204</th>\n",
       "      <td>tt16280150</td>\n",
       "      <td>Velocity Girl Nothing</td>\n",
       "      <td>(1996 Music Video)</td>\n",
       "      <td>11.0</td>\n",
       "      <td>Not Certified</td>\n",
       "      <td>0 min</td>\n",
       "      <td>Music</td>\n",
       "      <td>Jonathon Stearns</td>\n",
       "      <td>nm0000000</td>\n",
       "      <td>1996</td>\n",
       "    </tr>\n",
       "  </tbody>\n",
       "</table>\n",
       "</div>"
      ],
      "text/plain": [
       "                 id                              name                year  \\\n",
       "1294865   tt1392159        The Gold Seeker's Daughter              (1909)   \n",
       "839305    tt0943642                         Freefonix         (2008–2009)   \n",
       "1501918  tt14893206  Road to the health in time-lapse        (2019 Video)   \n",
       "732497    tt0259304              Falling Away from Me        (1999 Video)   \n",
       "997204   tt16280150             Velocity Girl Nothing  (1996 Music Video)   \n",
       "\n",
       "         rating    certificate duration             genre     directors_name  \\\n",
       "1294865    11.0  Not Certified    0 min    Short, Western  Fred J. Balshofer   \n",
       "839305      7.8  Not Certified   22 min  Animation, Music          nm0000000   \n",
       "1501918    11.0  Not Certified    0 min  Short, Adventure     Roman Matovsky   \n",
       "732497      7.7  Not Certified  108 min    Drama, Musical          nm0000000   \n",
       "997204     11.0  Not Certified    0 min             Music   Jonathon Stearns   \n",
       "\n",
       "                                                stars_name  Year_of_Release  \n",
       "1294865                                          nm0000000             1909  \n",
       "839305   Shelley Longworth,Jules de Jongh,Adam Longwort...             2008  \n",
       "1501918                                          nm0000000             2019  \n",
       "732497                                           nm0000000             1999  \n",
       "997204                                           nm0000000             1996  "
      ]
     },
     "execution_count": 13,
     "metadata": {},
     "output_type": "execute_result"
    }
   ],
   "source": [
    "df.sample(5)"
   ]
  },
  {
   "cell_type": "markdown",
   "metadata": {},
   "source": [
    "### Cleaning star_name Column."
   ]
  },
  {
   "cell_type": "code",
   "execution_count": 14,
   "metadata": {},
   "outputs": [],
   "source": [
    "df['Actor_list'] = df['stars_name'].str.split(',')"
   ]
  },
  {
   "cell_type": "markdown",
   "metadata": {},
   "source": [
    "### Cleaning Genre column."
   ]
  },
  {
   "cell_type": "code",
   "execution_count": 15,
   "metadata": {},
   "outputs": [],
   "source": [
    "df['Genre'] = df['genre'].str.split(', ')"
   ]
  },
  {
   "cell_type": "code",
   "execution_count": 16,
   "metadata": {},
   "outputs": [
    {
     "data": {
      "application/vnd.microsoft.datawrangler.viewer.v0+json": {
       "columns": [
        {
         "name": "index",
         "rawType": "int64",
         "type": "integer"
        },
        {
         "name": "id",
         "rawType": "object",
         "type": "string"
        },
        {
         "name": "name",
         "rawType": "object",
         "type": "string"
        },
        {
         "name": "year",
         "rawType": "object",
         "type": "string"
        },
        {
         "name": "rating",
         "rawType": "float64",
         "type": "float"
        },
        {
         "name": "certificate",
         "rawType": "object",
         "type": "string"
        },
        {
         "name": "duration",
         "rawType": "object",
         "type": "string"
        },
        {
         "name": "genre",
         "rawType": "object",
         "type": "string"
        },
        {
         "name": "directors_name",
         "rawType": "object",
         "type": "string"
        },
        {
         "name": "stars_name",
         "rawType": "object",
         "type": "string"
        },
        {
         "name": "Year_of_Release",
         "rawType": "int32",
         "type": "integer"
        },
        {
         "name": "Actor_list",
         "rawType": "object",
         "type": "unknown"
        },
        {
         "name": "Genre",
         "rawType": "object",
         "type": "unknown"
        }
       ],
       "conversionMethod": "pd.DataFrame",
       "ref": "62af3823-351c-47e8-a6f3-efc76081d103",
       "rows": [
        [
         "1046440",
         "tt3492660",
         "Kamakura",
         "(2014)",
         "5.6",
         "Not Certified",
         "6 min",
         "Animation, Short, Fantasy",
         "Yoriko Mizushiri",
         "nm0000000",
         "2014",
         "['nm0000000']",
         "['Animation', 'Short', 'Fantasy']"
        ],
        [
         "1458698",
         "tt9258224",
         " The Flatey Enigma",
         "(2018– )",
         "6.6",
         "Not Certified",
         "53 min",
         "Crime, Drama, Mystery",
         "Björn Br. Björnsson",
         "Lára Jóhanna Jónsdóttir,Stefán Hallur Stefánsson,Hilmir Jensson,Sigurður Sigurjónsson",
         "2018",
         "['Lára Jóhanna Jónsdóttir', 'Stefán Hallur Stefánsson', 'Hilmir Jensson', 'Sigurður Sigurjónsson']",
         "['Crime', 'Drama', 'Mystery']"
        ],
        [
         "852268",
         "tt1461390",
         "Dionne Warwick- Souled Out",
         "(1969 TV Special)",
         "8.4",
         "Not Certified",
         "60 min",
         "Music",
         "Art Fisher",
         "Dionne Warwick,Burt Bacharach,Glen Campbell,Creedence Clearwater Revival",
         "1969",
         "['Dionne Warwick', 'Burt Bacharach', 'Glen Campbell', 'Creedence Clearwater Revival']",
         "['Music']"
        ],
        [
         "228409",
         "tt5935776",
         "Injustice for All",
         "(2016 Video)",
         "7.2",
         "Not Certified",
         "0 min",
         "Short, Drama, Fantasy",
         "Danny Mooney",
         "Chris Newman,Erika Hoveland,Donavan Darius,Jamie Bernadette",
         "2016",
         "['Chris Newman', 'Erika Hoveland', 'Donavan Darius', 'Jamie Bernadette']",
         "['Short', 'Drama', 'Fantasy']"
        ],
        [
         "844050",
         "tt12305868",
         "Calpurnia: Wasting Time",
         "(2018 Music Video)",
         "8.8",
         "Not Certified",
         "2 min",
         "Animation, Music",
         "Martin MacPherson,Finn Wolfhard",
         "Finn Wolfhard",
         "2018",
         "['Finn Wolfhard']",
         "['Animation', 'Music']"
        ]
       ],
       "shape": {
        "columns": 12,
        "rows": 5
       }
      },
      "text/html": [
       "<div>\n",
       "<style scoped>\n",
       "    .dataframe tbody tr th:only-of-type {\n",
       "        vertical-align: middle;\n",
       "    }\n",
       "\n",
       "    .dataframe tbody tr th {\n",
       "        vertical-align: top;\n",
       "    }\n",
       "\n",
       "    .dataframe thead th {\n",
       "        text-align: right;\n",
       "    }\n",
       "</style>\n",
       "<table border=\"1\" class=\"dataframe\">\n",
       "  <thead>\n",
       "    <tr style=\"text-align: right;\">\n",
       "      <th></th>\n",
       "      <th>id</th>\n",
       "      <th>name</th>\n",
       "      <th>year</th>\n",
       "      <th>rating</th>\n",
       "      <th>certificate</th>\n",
       "      <th>duration</th>\n",
       "      <th>genre</th>\n",
       "      <th>directors_name</th>\n",
       "      <th>stars_name</th>\n",
       "      <th>Year_of_Release</th>\n",
       "      <th>Actor_list</th>\n",
       "      <th>Genre</th>\n",
       "    </tr>\n",
       "  </thead>\n",
       "  <tbody>\n",
       "    <tr>\n",
       "      <th>1046440</th>\n",
       "      <td>tt3492660</td>\n",
       "      <td>Kamakura</td>\n",
       "      <td>(2014)</td>\n",
       "      <td>5.6</td>\n",
       "      <td>Not Certified</td>\n",
       "      <td>6 min</td>\n",
       "      <td>Animation, Short, Fantasy</td>\n",
       "      <td>Yoriko Mizushiri</td>\n",
       "      <td>nm0000000</td>\n",
       "      <td>2014</td>\n",
       "      <td>[nm0000000]</td>\n",
       "      <td>[Animation, Short, Fantasy]</td>\n",
       "    </tr>\n",
       "    <tr>\n",
       "      <th>1458698</th>\n",
       "      <td>tt9258224</td>\n",
       "      <td>The Flatey Enigma</td>\n",
       "      <td>(2018– )</td>\n",
       "      <td>6.6</td>\n",
       "      <td>Not Certified</td>\n",
       "      <td>53 min</td>\n",
       "      <td>Crime, Drama, Mystery</td>\n",
       "      <td>Björn Br. Björnsson</td>\n",
       "      <td>Lára Jóhanna Jónsdóttir,Stefán Hallur Stefánss...</td>\n",
       "      <td>2018</td>\n",
       "      <td>[Lára Jóhanna Jónsdóttir, Stefán Hallur Stefán...</td>\n",
       "      <td>[Crime, Drama, Mystery]</td>\n",
       "    </tr>\n",
       "    <tr>\n",
       "      <th>852268</th>\n",
       "      <td>tt1461390</td>\n",
       "      <td>Dionne Warwick- Souled Out</td>\n",
       "      <td>(1969 TV Special)</td>\n",
       "      <td>8.4</td>\n",
       "      <td>Not Certified</td>\n",
       "      <td>60 min</td>\n",
       "      <td>Music</td>\n",
       "      <td>Art Fisher</td>\n",
       "      <td>Dionne Warwick,Burt Bacharach,Glen Campbell,Cr...</td>\n",
       "      <td>1969</td>\n",
       "      <td>[Dionne Warwick, Burt Bacharach, Glen Campbell...</td>\n",
       "      <td>[Music]</td>\n",
       "    </tr>\n",
       "    <tr>\n",
       "      <th>228409</th>\n",
       "      <td>tt5935776</td>\n",
       "      <td>Injustice for All</td>\n",
       "      <td>(2016 Video)</td>\n",
       "      <td>7.2</td>\n",
       "      <td>Not Certified</td>\n",
       "      <td>0 min</td>\n",
       "      <td>Short, Drama, Fantasy</td>\n",
       "      <td>Danny Mooney</td>\n",
       "      <td>Chris Newman,Erika Hoveland,Donavan Darius,Jam...</td>\n",
       "      <td>2016</td>\n",
       "      <td>[Chris Newman, Erika Hoveland, Donavan Darius,...</td>\n",
       "      <td>[Short, Drama, Fantasy]</td>\n",
       "    </tr>\n",
       "    <tr>\n",
       "      <th>844050</th>\n",
       "      <td>tt12305868</td>\n",
       "      <td>Calpurnia: Wasting Time</td>\n",
       "      <td>(2018 Music Video)</td>\n",
       "      <td>8.8</td>\n",
       "      <td>Not Certified</td>\n",
       "      <td>2 min</td>\n",
       "      <td>Animation, Music</td>\n",
       "      <td>Martin MacPherson,Finn Wolfhard</td>\n",
       "      <td>Finn Wolfhard</td>\n",
       "      <td>2018</td>\n",
       "      <td>[Finn Wolfhard]</td>\n",
       "      <td>[Animation, Music]</td>\n",
       "    </tr>\n",
       "  </tbody>\n",
       "</table>\n",
       "</div>"
      ],
      "text/plain": [
       "                 id                        name                year  rating  \\\n",
       "1046440   tt3492660                    Kamakura              (2014)     5.6   \n",
       "1458698   tt9258224           The Flatey Enigma            (2018– )     6.6   \n",
       "852268    tt1461390  Dionne Warwick- Souled Out   (1969 TV Special)     8.4   \n",
       "228409    tt5935776           Injustice for All        (2016 Video)     7.2   \n",
       "844050   tt12305868     Calpurnia: Wasting Time  (2018 Music Video)     8.8   \n",
       "\n",
       "           certificate duration                      genre  \\\n",
       "1046440  Not Certified    6 min  Animation, Short, Fantasy   \n",
       "1458698  Not Certified   53 min      Crime, Drama, Mystery   \n",
       "852268   Not Certified   60 min                      Music   \n",
       "228409   Not Certified    0 min      Short, Drama, Fantasy   \n",
       "844050   Not Certified    2 min           Animation, Music   \n",
       "\n",
       "                          directors_name  \\\n",
       "1046440                 Yoriko Mizushiri   \n",
       "1458698              Björn Br. Björnsson   \n",
       "852268                        Art Fisher   \n",
       "228409                      Danny Mooney   \n",
       "844050   Martin MacPherson,Finn Wolfhard   \n",
       "\n",
       "                                                stars_name  Year_of_Release  \\\n",
       "1046440                                          nm0000000             2014   \n",
       "1458698  Lára Jóhanna Jónsdóttir,Stefán Hallur Stefánss...             2018   \n",
       "852268   Dionne Warwick,Burt Bacharach,Glen Campbell,Cr...             1969   \n",
       "228409   Chris Newman,Erika Hoveland,Donavan Darius,Jam...             2016   \n",
       "844050                                       Finn Wolfhard             2018   \n",
       "\n",
       "                                                Actor_list  \\\n",
       "1046440                                        [nm0000000]   \n",
       "1458698  [Lára Jóhanna Jónsdóttir, Stefán Hallur Stefán...   \n",
       "852268   [Dionne Warwick, Burt Bacharach, Glen Campbell...   \n",
       "228409   [Chris Newman, Erika Hoveland, Donavan Darius,...   \n",
       "844050                                     [Finn Wolfhard]   \n",
       "\n",
       "                               Genre  \n",
       "1046440  [Animation, Short, Fantasy]  \n",
       "1458698      [Crime, Drama, Mystery]  \n",
       "852268                       [Music]  \n",
       "228409       [Short, Drama, Fantasy]  \n",
       "844050            [Animation, Music]  "
      ]
     },
     "execution_count": 16,
     "metadata": {},
     "output_type": "execute_result"
    }
   ],
   "source": [
    "df.sample(5)"
   ]
  },
  {
   "cell_type": "markdown",
   "metadata": {},
   "source": [
    "### Fill missing values of duration column."
   ]
  },
  {
   "cell_type": "code",
   "execution_count": 17,
   "metadata": {},
   "outputs": [],
   "source": [
    "df['duration']=df['duration'].str.replace(' min','')\n",
    "df['duration']=df['duration'].str.replace(',','').astype(int)"
   ]
  },
  {
   "cell_type": "code",
   "execution_count": 18,
   "metadata": {},
   "outputs": [],
   "source": [
    "df['main_genre'] = df['Genre'].apply(lambda x: x[0] if isinstance(x, list) and len(x) > 0 else None)\n",
    "\n",
    "genre_median_duration = df.groupby('main_genre')['duration'].median()\n",
    "\n",
    "df['duration'] = df.apply(\n",
    "    lambda row: genre_median_duration[row['main_genre']] if row['duration'] == 0 else row['duration'], \n",
    "    axis=1\n",
    ")"
   ]
  },
  {
   "cell_type": "code",
   "execution_count": 19,
   "metadata": {},
   "outputs": [
    {
     "data": {
      "application/vnd.microsoft.datawrangler.viewer.v0+json": {
       "columns": [
        {
         "name": "index",
         "rawType": "int64",
         "type": "integer"
        },
        {
         "name": "id",
         "rawType": "object",
         "type": "string"
        },
        {
         "name": "name",
         "rawType": "object",
         "type": "string"
        },
        {
         "name": "year",
         "rawType": "object",
         "type": "string"
        },
        {
         "name": "rating",
         "rawType": "float64",
         "type": "float"
        },
        {
         "name": "certificate",
         "rawType": "object",
         "type": "string"
        },
        {
         "name": "duration",
         "rawType": "float64",
         "type": "float"
        },
        {
         "name": "genre",
         "rawType": "object",
         "type": "string"
        },
        {
         "name": "directors_name",
         "rawType": "object",
         "type": "string"
        },
        {
         "name": "stars_name",
         "rawType": "object",
         "type": "string"
        },
        {
         "name": "Year_of_Release",
         "rawType": "int32",
         "type": "integer"
        },
        {
         "name": "Actor_list",
         "rawType": "object",
         "type": "unknown"
        },
        {
         "name": "Genre",
         "rawType": "object",
         "type": "unknown"
        },
        {
         "name": "main_genre",
         "rawType": "object",
         "type": "string"
        }
       ],
       "conversionMethod": "pd.DataFrame",
       "ref": "94b71893-7789-4915-859d-8f1bf33faad0",
       "rows": [
        [
         "1052019",
         "tt13817984",
         "Wayback",
         "(2020)",
         "6.7",
         "Not Certified",
         "8.0",
         "Animation, Short, Sci-Fi",
         "Carlos Salgado",
         "nm0000000",
         "2020",
         "['nm0000000']",
         "['Animation', 'Short', 'Sci-Fi']",
         "Animation"
        ],
        [
         "2024704",
         "tt4922978",
         "Saint Seiya: The Hades",
         "(2006 Video Game)",
         "8.1",
         "Not Certified",
         "0.0",
         "Action, Fantasy",
         "nm0000000",
         "nm0000000",
         "2006",
         "['nm0000000']",
         "['Action', 'Fantasy']",
         "Action"
        ],
        [
         "2090690",
         "tt0377369",
         "Anak ni Boy Negro",
         "(1997)",
         "2.3",
         "Not Certified",
         "95.0",
         "Action, Drama",
         "Toto Natividad",
         "Joko Diaz,Donita Rose,Brando Legaspi,Ramon Christopher",
         "1997",
         "['Joko Diaz', 'Donita Rose', 'Brando Legaspi', 'Ramon Christopher']",
         "['Action', 'Drama']",
         "Action"
        ],
        [
         "994758",
         "tt15576458",
         "Stagegarden: Konungen",
         "(2018 Music Video)",
         "11.0",
         "Not Certified",
         "3.0",
         "Music",
         "Josef Rios,Vanessa Hylande",
         "Vanessa Hylande",
         "2018",
         "['Vanessa Hylande']",
         "['Music']",
         "Music"
        ],
        [
         "872299",
         "tt13951142",
         "Gary Numan with the Skaparis Orchestra: When the Sky Came Down - Live at the Bridgewater Hall",
         "(2019)",
         "11.0",
         "Not Certified",
         "121.0",
         "Music",
         "Paul M. Green",
         "Gary Numan,Simon Robertshaw",
         "2019",
         "['Gary Numan', 'Simon Robertshaw']",
         "['Music']",
         "Music"
        ]
       ],
       "shape": {
        "columns": 13,
        "rows": 5
       }
      },
      "text/html": [
       "<div>\n",
       "<style scoped>\n",
       "    .dataframe tbody tr th:only-of-type {\n",
       "        vertical-align: middle;\n",
       "    }\n",
       "\n",
       "    .dataframe tbody tr th {\n",
       "        vertical-align: top;\n",
       "    }\n",
       "\n",
       "    .dataframe thead th {\n",
       "        text-align: right;\n",
       "    }\n",
       "</style>\n",
       "<table border=\"1\" class=\"dataframe\">\n",
       "  <thead>\n",
       "    <tr style=\"text-align: right;\">\n",
       "      <th></th>\n",
       "      <th>id</th>\n",
       "      <th>name</th>\n",
       "      <th>year</th>\n",
       "      <th>rating</th>\n",
       "      <th>certificate</th>\n",
       "      <th>duration</th>\n",
       "      <th>genre</th>\n",
       "      <th>directors_name</th>\n",
       "      <th>stars_name</th>\n",
       "      <th>Year_of_Release</th>\n",
       "      <th>Actor_list</th>\n",
       "      <th>Genre</th>\n",
       "      <th>main_genre</th>\n",
       "    </tr>\n",
       "  </thead>\n",
       "  <tbody>\n",
       "    <tr>\n",
       "      <th>1052019</th>\n",
       "      <td>tt13817984</td>\n",
       "      <td>Wayback</td>\n",
       "      <td>(2020)</td>\n",
       "      <td>6.7</td>\n",
       "      <td>Not Certified</td>\n",
       "      <td>8.0</td>\n",
       "      <td>Animation, Short, Sci-Fi</td>\n",
       "      <td>Carlos Salgado</td>\n",
       "      <td>nm0000000</td>\n",
       "      <td>2020</td>\n",
       "      <td>[nm0000000]</td>\n",
       "      <td>[Animation, Short, Sci-Fi]</td>\n",
       "      <td>Animation</td>\n",
       "    </tr>\n",
       "    <tr>\n",
       "      <th>2024704</th>\n",
       "      <td>tt4922978</td>\n",
       "      <td>Saint Seiya: The Hades</td>\n",
       "      <td>(2006 Video Game)</td>\n",
       "      <td>8.1</td>\n",
       "      <td>Not Certified</td>\n",
       "      <td>0.0</td>\n",
       "      <td>Action, Fantasy</td>\n",
       "      <td>nm0000000</td>\n",
       "      <td>nm0000000</td>\n",
       "      <td>2006</td>\n",
       "      <td>[nm0000000]</td>\n",
       "      <td>[Action, Fantasy]</td>\n",
       "      <td>Action</td>\n",
       "    </tr>\n",
       "    <tr>\n",
       "      <th>2090690</th>\n",
       "      <td>tt0377369</td>\n",
       "      <td>Anak ni Boy Negro</td>\n",
       "      <td>(1997)</td>\n",
       "      <td>2.3</td>\n",
       "      <td>Not Certified</td>\n",
       "      <td>95.0</td>\n",
       "      <td>Action, Drama</td>\n",
       "      <td>Toto Natividad</td>\n",
       "      <td>Joko Diaz,Donita Rose,Brando Legaspi,Ramon Chr...</td>\n",
       "      <td>1997</td>\n",
       "      <td>[Joko Diaz, Donita Rose, Brando Legaspi, Ramon...</td>\n",
       "      <td>[Action, Drama]</td>\n",
       "      <td>Action</td>\n",
       "    </tr>\n",
       "    <tr>\n",
       "      <th>994758</th>\n",
       "      <td>tt15576458</td>\n",
       "      <td>Stagegarden: Konungen</td>\n",
       "      <td>(2018 Music Video)</td>\n",
       "      <td>11.0</td>\n",
       "      <td>Not Certified</td>\n",
       "      <td>3.0</td>\n",
       "      <td>Music</td>\n",
       "      <td>Josef Rios,Vanessa Hylande</td>\n",
       "      <td>Vanessa Hylande</td>\n",
       "      <td>2018</td>\n",
       "      <td>[Vanessa Hylande]</td>\n",
       "      <td>[Music]</td>\n",
       "      <td>Music</td>\n",
       "    </tr>\n",
       "    <tr>\n",
       "      <th>872299</th>\n",
       "      <td>tt13951142</td>\n",
       "      <td>Gary Numan with the Skaparis Orchestra: When t...</td>\n",
       "      <td>(2019)</td>\n",
       "      <td>11.0</td>\n",
       "      <td>Not Certified</td>\n",
       "      <td>121.0</td>\n",
       "      <td>Music</td>\n",
       "      <td>Paul M. Green</td>\n",
       "      <td>Gary Numan,Simon Robertshaw</td>\n",
       "      <td>2019</td>\n",
       "      <td>[Gary Numan, Simon Robertshaw]</td>\n",
       "      <td>[Music]</td>\n",
       "      <td>Music</td>\n",
       "    </tr>\n",
       "  </tbody>\n",
       "</table>\n",
       "</div>"
      ],
      "text/plain": [
       "                 id                                               name  \\\n",
       "1052019  tt13817984                                            Wayback   \n",
       "2024704   tt4922978                             Saint Seiya: The Hades   \n",
       "2090690   tt0377369                                  Anak ni Boy Negro   \n",
       "994758   tt15576458                              Stagegarden: Konungen   \n",
       "872299   tt13951142  Gary Numan with the Skaparis Orchestra: When t...   \n",
       "\n",
       "                       year  rating    certificate  duration  \\\n",
       "1052019              (2020)     6.7  Not Certified       8.0   \n",
       "2024704   (2006 Video Game)     8.1  Not Certified       0.0   \n",
       "2090690              (1997)     2.3  Not Certified      95.0   \n",
       "994758   (2018 Music Video)    11.0  Not Certified       3.0   \n",
       "872299               (2019)    11.0  Not Certified     121.0   \n",
       "\n",
       "                            genre              directors_name  \\\n",
       "1052019  Animation, Short, Sci-Fi              Carlos Salgado   \n",
       "2024704           Action, Fantasy                   nm0000000   \n",
       "2090690             Action, Drama              Toto Natividad   \n",
       "994758                      Music  Josef Rios,Vanessa Hylande   \n",
       "872299                      Music               Paul M. Green   \n",
       "\n",
       "                                                stars_name  Year_of_Release  \\\n",
       "1052019                                          nm0000000             2020   \n",
       "2024704                                          nm0000000             2006   \n",
       "2090690  Joko Diaz,Donita Rose,Brando Legaspi,Ramon Chr...             1997   \n",
       "994758                                     Vanessa Hylande             2018   \n",
       "872299                         Gary Numan,Simon Robertshaw             2019   \n",
       "\n",
       "                                                Actor_list  \\\n",
       "1052019                                        [nm0000000]   \n",
       "2024704                                        [nm0000000]   \n",
       "2090690  [Joko Diaz, Donita Rose, Brando Legaspi, Ramon...   \n",
       "994758                                   [Vanessa Hylande]   \n",
       "872299                      [Gary Numan, Simon Robertshaw]   \n",
       "\n",
       "                              Genre main_genre  \n",
       "1052019  [Animation, Short, Sci-Fi]  Animation  \n",
       "2024704           [Action, Fantasy]     Action  \n",
       "2090690             [Action, Drama]     Action  \n",
       "994758                      [Music]      Music  \n",
       "872299                      [Music]      Music  "
      ]
     },
     "execution_count": 19,
     "metadata": {},
     "output_type": "execute_result"
    }
   ],
   "source": [
    "df.sample(5)"
   ]
  },
  {
   "cell_type": "markdown",
   "metadata": {},
   "source": [
    "### Rearrangement and final touch."
   ]
  },
  {
   "cell_type": "code",
   "execution_count": 20,
   "metadata": {},
   "outputs": [],
   "source": [
    "df.drop(columns=['year','id','genre','stars_name','main_genre'],inplace=True)"
   ]
  },
  {
   "cell_type": "code",
   "execution_count": 21,
   "metadata": {},
   "outputs": [],
   "source": [
    "df.rename(columns={'name': 'Name','rating':'Rating','certificate':\"Certificate\",'duration':'Duration',\n",
    "                   'directors_name':'Directors_Name'}, inplace=True)\n",
    "df = df[['Name', 'Year_of_Release', 'Certificate', 'Genre',  \n",
    "         'Directors_Name', 'Actor_list',  \n",
    "         'Duration', 'Rating']]"
   ]
  },
  {
   "cell_type": "code",
   "execution_count": 22,
   "metadata": {},
   "outputs": [
    {
     "data": {
      "application/vnd.microsoft.datawrangler.viewer.v0+json": {
       "columns": [
        {
         "name": "index",
         "rawType": "int64",
         "type": "integer"
        },
        {
         "name": "Name",
         "rawType": "object",
         "type": "string"
        },
        {
         "name": "Year_of_Release",
         "rawType": "int32",
         "type": "integer"
        },
        {
         "name": "Certificate",
         "rawType": "object",
         "type": "string"
        },
        {
         "name": "Genre",
         "rawType": "object",
         "type": "unknown"
        },
        {
         "name": "Directors_Name",
         "rawType": "object",
         "type": "string"
        },
        {
         "name": "Actor_list",
         "rawType": "object",
         "type": "unknown"
        },
        {
         "name": "Duration",
         "rawType": "float64",
         "type": "float"
        },
        {
         "name": "Rating",
         "rawType": "float64",
         "type": "float"
        }
       ],
       "conversionMethod": "pd.DataFrame",
       "ref": "ae953190-4c85-4ebf-880a-58a9a33344ef",
       "rows": [
        [
         "1935025",
         "Dearly Beloved",
         "2004",
         "Not Certified",
         "['Short', 'Sci-Fi']",
         "nm0000000",
         "['nm0000000']",
         "15.0",
         "11.0"
        ],
        [
         "1507214",
         "Stuck",
         "2014",
         "Not Certified",
         "['Short', 'Adventure']",
         "Chris Wonder",
         "['Briana Alegria', 'Berdj Betchadjian', 'Bobby DeMuro', 'Ryan Mitchell']",
         "14.0",
         "11.0"
        ],
        [
         "252243",
         "The Green-Eyed Monster",
         "1999",
         "Unrated",
         "['Short', 'Drama', 'Fantasy']",
         "Jeff Kirkendall",
         "['Kelly Chaisson Warner', 'Tim Hatch', 'Mary Kay Hilko', 'Amy Naple']",
         "25.0",
         "11.0"
        ],
        [
         "1928990",
         "Pure Energy 2101",
         "2020",
         "Not Certified",
         "['Short', 'Sci-Fi']",
         "Francisco Garcia Mateos",
         "['Idgi Drummond', 'Lorena Cerdera', 'Josué de la Calle', 'Pablo Padrón']",
         "5.0",
         "11.0"
        ],
        [
         "48339",
         "Blood of Bad Men",
         "2020",
         "Not Certified",
         "['Crime']",
         "Ross Bigley",
         "['Michael Chobanoff', 'Anieya Walker', 'Kevin Croak', 'Amanda Schulz']",
         "90.0",
         "11.0"
        ]
       ],
       "shape": {
        "columns": 8,
        "rows": 5
       }
      },
      "text/html": [
       "<div>\n",
       "<style scoped>\n",
       "    .dataframe tbody tr th:only-of-type {\n",
       "        vertical-align: middle;\n",
       "    }\n",
       "\n",
       "    .dataframe tbody tr th {\n",
       "        vertical-align: top;\n",
       "    }\n",
       "\n",
       "    .dataframe thead th {\n",
       "        text-align: right;\n",
       "    }\n",
       "</style>\n",
       "<table border=\"1\" class=\"dataframe\">\n",
       "  <thead>\n",
       "    <tr style=\"text-align: right;\">\n",
       "      <th></th>\n",
       "      <th>Name</th>\n",
       "      <th>Year_of_Release</th>\n",
       "      <th>Certificate</th>\n",
       "      <th>Genre</th>\n",
       "      <th>Directors_Name</th>\n",
       "      <th>Actor_list</th>\n",
       "      <th>Duration</th>\n",
       "      <th>Rating</th>\n",
       "    </tr>\n",
       "  </thead>\n",
       "  <tbody>\n",
       "    <tr>\n",
       "      <th>1935025</th>\n",
       "      <td>Dearly Beloved</td>\n",
       "      <td>2004</td>\n",
       "      <td>Not Certified</td>\n",
       "      <td>[Short, Sci-Fi]</td>\n",
       "      <td>nm0000000</td>\n",
       "      <td>[nm0000000]</td>\n",
       "      <td>15.0</td>\n",
       "      <td>11.0</td>\n",
       "    </tr>\n",
       "    <tr>\n",
       "      <th>1507214</th>\n",
       "      <td>Stuck</td>\n",
       "      <td>2014</td>\n",
       "      <td>Not Certified</td>\n",
       "      <td>[Short, Adventure]</td>\n",
       "      <td>Chris Wonder</td>\n",
       "      <td>[Briana Alegria, Berdj Betchadjian, Bobby DeMu...</td>\n",
       "      <td>14.0</td>\n",
       "      <td>11.0</td>\n",
       "    </tr>\n",
       "    <tr>\n",
       "      <th>252243</th>\n",
       "      <td>The Green-Eyed Monster</td>\n",
       "      <td>1999</td>\n",
       "      <td>Unrated</td>\n",
       "      <td>[Short, Drama, Fantasy]</td>\n",
       "      <td>Jeff Kirkendall</td>\n",
       "      <td>[Kelly Chaisson Warner, Tim Hatch, Mary Kay Hi...</td>\n",
       "      <td>25.0</td>\n",
       "      <td>11.0</td>\n",
       "    </tr>\n",
       "    <tr>\n",
       "      <th>1928990</th>\n",
       "      <td>Pure Energy 2101</td>\n",
       "      <td>2020</td>\n",
       "      <td>Not Certified</td>\n",
       "      <td>[Short, Sci-Fi]</td>\n",
       "      <td>Francisco Garcia Mateos</td>\n",
       "      <td>[Idgi Drummond, Lorena Cerdera, Josué de la Ca...</td>\n",
       "      <td>5.0</td>\n",
       "      <td>11.0</td>\n",
       "    </tr>\n",
       "    <tr>\n",
       "      <th>48339</th>\n",
       "      <td>Blood of Bad Men</td>\n",
       "      <td>2020</td>\n",
       "      <td>Not Certified</td>\n",
       "      <td>[Crime]</td>\n",
       "      <td>Ross Bigley</td>\n",
       "      <td>[Michael Chobanoff, Anieya Walker, Kevin Croak...</td>\n",
       "      <td>90.0</td>\n",
       "      <td>11.0</td>\n",
       "    </tr>\n",
       "  </tbody>\n",
       "</table>\n",
       "</div>"
      ],
      "text/plain": [
       "                           Name  Year_of_Release    Certificate  \\\n",
       "1935025          Dearly Beloved             2004  Not Certified   \n",
       "1507214                   Stuck             2014  Not Certified   \n",
       "252243   The Green-Eyed Monster             1999        Unrated   \n",
       "1928990        Pure Energy 2101             2020  Not Certified   \n",
       "48339          Blood of Bad Men             2020  Not Certified   \n",
       "\n",
       "                           Genre           Directors_Name  \\\n",
       "1935025          [Short, Sci-Fi]                nm0000000   \n",
       "1507214       [Short, Adventure]             Chris Wonder   \n",
       "252243   [Short, Drama, Fantasy]          Jeff Kirkendall   \n",
       "1928990          [Short, Sci-Fi]  Francisco Garcia Mateos   \n",
       "48339                    [Crime]              Ross Bigley   \n",
       "\n",
       "                                                Actor_list  Duration  Rating  \n",
       "1935025                                        [nm0000000]      15.0    11.0  \n",
       "1507214  [Briana Alegria, Berdj Betchadjian, Bobby DeMu...      14.0    11.0  \n",
       "252243   [Kelly Chaisson Warner, Tim Hatch, Mary Kay Hi...      25.0    11.0  \n",
       "1928990  [Idgi Drummond, Lorena Cerdera, Josué de la Ca...       5.0    11.0  \n",
       "48339    [Michael Chobanoff, Anieya Walker, Kevin Croak...      90.0    11.0  "
      ]
     },
     "execution_count": 22,
     "metadata": {},
     "output_type": "execute_result"
    }
   ],
   "source": [
    "df.sample(5)"
   ]
  },
  {
   "cell_type": "code",
   "execution_count": null,
   "metadata": {},
   "outputs": [],
   "source": []
  }
 ],
 "metadata": {
  "kernelspec": {
   "display_name": "Python 3",
   "language": "python",
   "name": "python3"
  },
  "language_info": {
   "codemirror_mode": {
    "name": "ipython",
    "version": 3
   },
   "file_extension": ".py",
   "mimetype": "text/x-python",
   "name": "python",
   "nbconvert_exporter": "python",
   "pygments_lexer": "ipython3",
   "version": "3.11.9"
  }
 },
 "nbformat": 4,
 "nbformat_minor": 2
}
